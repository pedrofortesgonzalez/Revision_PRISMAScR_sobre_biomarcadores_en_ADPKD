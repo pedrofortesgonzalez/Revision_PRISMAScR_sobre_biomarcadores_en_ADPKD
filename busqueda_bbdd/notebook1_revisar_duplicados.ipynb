{
 "cells": [
  {
   "cell_type": "markdown",
   "metadata": {},
   "source": [
    "# Revisión de Duplicados\n",
    "\n",
    "Este notebook se encarga de la identificación y manejo de duplicados en los resultados de búsqueda de la revisión sistemática PRISMA-ScR sobre biomarcadores en ADPKD.\n",
    "\n",
    "## Objetivos:\n",
    "- Cargar resultados de búsqueda desde múltiples bases de datos\n",
    "- Identificar registros duplicados\n",
    "- Eliminar duplicados manteniendo el registro más completo\n",
    "- Generar reporte de duplicados encontrados"
   ]
  },
  {
   "cell_type": "code",
   "execution_count": null,
   "metadata": {},
   "outputs": [],
   "source": [
    "import pandas as pd\n",
    "import numpy as np\n",
    "import os\n",
    "from pathlib import Path\n",
    "\n",
    "# Configuración inicial\n",
    "pd.set_option('display.max_columns', None)\n",
    "pd.set_option('display.width', None)\n",
    "pd.set_option('display.max_colwidth', None)"
   ]
  },
  {
   "cell_type": "markdown",
   "metadata": {},
   "source": [
    "## 1. Carga de Resultados de Búsqueda"
   ]
  },
  {
   "cell_type": "code",
   "execution_count": null,
   "metadata": {},
   "outputs": [],
   "source": [
    "# Cargar archivos de resultados desde inputs/\n",
    "inputs_path = Path('inputs')\n",
    "search_files = list(inputs_path.glob('*.csv')) + list(inputs_path.glob('*.xlsx'))\n",
    "\n",
    "print(f\"Archivos de búsqueda encontrados: {len(search_files)}\")\n",
    "for file in search_files:\n",
    "    print(f\"  - {file.name}\")"
   ]
  },
  {
   "cell_type": "code",
   "execution_count": null,
   "metadata": {},
   "outputs": [],
   "source": [
    "# Cargar y combinar todos los resultados\n",
    "all_records = []\n",
    "\n",
    "# for file in search_files:\n",
    "#     if file.suffix == '.csv':\n",
    "#         df = pd.read_csv(file)\n",
    "#     elif file.suffix == '.xlsx':\n",
    "#         df = pd.read_excel(file)\n",
    "#     \n",
    "#     df['source_file'] = file.name\n",
    "#     all_records.append(df)\n",
    "\n",
    "# combined_df = pd.concat(all_records, ignore_index=True)\n",
    "# print(f\"Total de registros cargados: {len(combined_df)}\")"
   ]
  },
  {
   "cell_type": "markdown",
   "metadata": {},
   "source": [
    "## 2. Identificación de Duplicados"
   ]
  },
  {
   "cell_type": "code",
   "execution_count": null,
   "metadata": {},
   "outputs": [],
   "source": [
    "# Identificar duplicados por DOI\n",
    "# doi_duplicates = combined_df[combined_df.duplicated(['DOI'], keep=False)]\n",
    "# print(f\"Duplicados por DOI: {len(doi_duplicates)}\")"
   ]
  },
  {
   "cell_type": "code",
   "execution_count": null,
   "metadata": {},
   "outputs": [],
   "source": [
    "# Identificar duplicados por título\n",
    "# title_duplicates = combined_df[combined_df.duplicated(['Title'], keep=False)]\n",
    "# print(f\"Duplicados por título: {len(title_duplicates)}\")"
   ]
  },
  {
   "cell_type": "markdown",
   "metadata": {},
   "source": [
    "## 3. Eliminación de Duplicados"
   ]
  },
  {
   "cell_type": "code",
   "execution_count": null,
   "metadata": {},
   "outputs": [],
   "source": [
    "# Eliminar duplicados manteniendo el registro más completo\n",
    "# deduplicated_df = remove_duplicates(combined_df)\n",
    "# print(f\"Registros únicos después de deduplicación: {len(deduplicated_df)}\")\n",
    "# print(f\"Registros eliminados: {len(combined_df) - len(deduplicated_df)}\")"
   ]
  },
  {
   "cell_type": "markdown",
   "metadata": {},
   "source": [
    "## 4. Guardado de Resultados"
   ]
  },
  {
   "cell_type": "code",
   "execution_count": null,
   "metadata": {},
   "outputs": [],
   "source": [
    "# Guardar resultados deduplicados\n",
    "# deduplicated_df.to_csv('resultados/deduplicated_records.csv', index=False)\n",
    "# print(\"Resultados guardados en 'resultados/deduplicated_records.csv'\")"
   ]
  },
  {
   "cell_type": "markdown",
   "metadata": {},
   "source": [
    "## 5. Reporte de Deduplicación"
   ]
  },
  {
   "cell_type": "code",
   "execution_count": null,
   "metadata": {},
   "outputs": [],
   "source": [
    "# Generar reporte de deduplicación\n",
    "# deduplication_report = generate_deduplication_report(combined_df, deduplicated_df)\n",
    "# print(deduplication_report)"
   ]
  }
 ],
 "metadata": {
  "kernelspec": {
   "display_name": "Python 3",
   "language": "python",
   "name": "python3"
  },
  "language_info": {
   "codemirror_mode": {
    "name": "ipython",
    "version": 3
   },
   "file_extension": ".py",
   "mimetype": "text/x-python",
   "name": "python",
   "nbconvert_exporter": "python",
   "pygments_lexer": "ipython3",
   "version": "3.8.5"
  }
 },
 "nbformat": 4,
 "nbformat_minor": 4
}