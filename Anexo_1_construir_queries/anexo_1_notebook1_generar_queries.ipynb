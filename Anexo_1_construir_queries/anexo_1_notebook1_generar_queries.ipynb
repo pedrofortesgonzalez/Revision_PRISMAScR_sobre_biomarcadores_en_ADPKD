{
 "cells": [
  {
   "cell_type": "markdown",
   "id": "774744a9-fc28-4cd7-b8bf-f02732346d23",
   "metadata": {},
   "source": [
    "***\n",
    "### 1.configurar WEnv y WDir"
   ]
  },
  {
   "cell_type": "code",
   "execution_count": null,
   "id": "e5cf873c-d462-4077-9dbd-28e929fefa05",
   "metadata": {},
   "outputs": [],
   "source": [
    "# importar librerías\n",
    "import os, sys, session_info, re\n",
    "\n",
    "# comprobar WD\n",
    "print(os.getcwd())\n",
    "\n",
    "# mostrar dependencias\n",
    "session_info.show()"
   ]
  },
  {
   "cell_type": "code",
   "execution_count": null,
   "id": "b836db5f-18e2-4b8d-92a5-6f232fa6302f",
   "metadata": {},
   "outputs": [],
   "source": [
    "def rm_head(string: str) -> str:\n",
    "    \"\"\"\n",
    "    Elimina encabezados que comienzan con # de un texto.\n",
    "    \n",
    "    Args:\n",
    "        string (str): Texto de entrada que puede contener encabezados\n",
    "        \n",
    "    Returns:\n",
    "        str: Texto sin los encabezados que comenzaban con #\n",
    "        \n",
    "    Example:\n",
    "        >>> text = \"#Header\\\\nContent\\\\n#Another header\\\\nMore content\"\n",
    "        >>> rm_head(text)\n",
    "        'Content\\\\nMore content'\n",
    "    \"\"\"\n",
    "    header = r'^#.*$'\n",
    "    string = re.sub(pattern=header, repl='', string=string, flags=re.MULTILINE)\n",
    "    return string.strip()"
   ]
  },
  {
   "cell_type": "markdown",
   "id": "a8fcee23-8a14-495d-bcd0-9db1e8248762",
   "metadata": {},
   "source": [
    "***\n",
    "### 2.procesado\n",
    "\n",
    "Definir variables de rutas antes de ejecutar nada"
   ]
  },
  {
   "cell_type": "code",
   "execution_count": null,
   "id": "30c53f2f-024a-4f1a-9aca-6184dbee9db6",
   "metadata": {},
   "outputs": [],
   "source": [
    "# constructos en .txt\n",
    "const_folder = f\"./Anexo_1_carpeta_1_constructos/\"         # folder con los constructos en .txt\n",
    "const_1 = f\"constructo_1_mesh_kidney_diseases.txt\"         # constructo 1.txt\n",
    "const_2 = f\"constructo_2_adpkd.txt\"                        # constructo 2.txt\n",
    "const_3 = f\"constructo_3_genes.txt\"                        # constructo 3.txt\n",
    "const_4 = f\"constructo_4_omicas_bio_computacional.txt\"     # constructo 4.txt\n",
    "const_5 = f\"constructo_5_biomarcadores.txt\"                # constructo 5.txt"
   ]
  },
  {
   "cell_type": "markdown",
   "id": "af7731b7-f2b2-44b6-bbea-68ab68a02f7b",
   "metadata": {},
   "source": [
    "Ahora, a partir de los .txt construyo primero la query en PubMed, y luego la tconvierto a WOS\n",
    "\n",
    "##### 2.1.constructo1:"
   ]
  },
  {
   "cell_type": "code",
   "execution_count": null,
   "id": "0623a08d-81b2-490e-b771-2c51597a289f",
   "metadata": {},
   "outputs": [],
   "source": [
    "# importar y convertir a string\n",
    "c1_pm_path = f\"{const_folder}/{const_1}\"\n",
    "with open(c1_pm_path, \"r\", encoding=\"utf-8\") as file:\n",
    "    f1 = file.read()\n",
    "\n",
    "# eliminar headers y espacios en blanco sobrantes, añadir prefijo WOS y quitar [tiab]\n",
    "f1 = rm_head(f1)\n",
    "f1_wos = \"TS=\" + f1.replace('[tiab]', '')\n",
    "\n",
    "# Eliminar términos Mesh (ya están representados en el resto de keywords)\n",
    "# y añadir grupo de búsqueda para aumentar exhaustividad de la query --> esto detecta los artículos no indexados\n",
    "mesh_term = '\"Kidney Diseases/congenital\"[Mesh] OR \"Kidney Diseases/genetics\"[Mesh] OR '\n",
    "appendix = ' OR (\"kidney disease*\" AND (\"congenital\" OR \"genetic*\" OR \"hereditary\")))'\n",
    "f1_wos = f1_wos.replace(mesh_term, '')[:-1] + appendix\n",
    "\n",
    "# check result\n",
    "h = 6*'*'\n",
    "print(f\"\\n{h}\\nPUBMED:\\n{h}\\n{f1}\\n{h}\\nWOS:\\n{h}\\n{f1_wos}\")"
   ]
  },
  {
   "cell_type": "markdown",
   "id": "26779b12-6b64-402b-9eb0-214e6f44ce38",
   "metadata": {},
   "source": [
    "##### 2.2.constructo2:"
   ]
  },
  {
   "cell_type": "code",
   "execution_count": null,
   "id": "c604e99e-6219-4775-9a3f-3cacc856260c",
   "metadata": {},
   "outputs": [],
   "source": [
    "# importar y convertir a string\n",
    "c2_pm_path = f\"{const_folder}/{const_2}\"\n",
    "with open(c2_pm_path, \"r\", encoding=\"utf-8\") as file:\n",
    "    f2 = file.read()\n",
    "\n",
    "# eliminar headers y espacios en blanco sobrantes, añadir prefijo WOS y quitar [tiab]\n",
    "f2 = rm_head(f2)\n",
    "f2_wos = \"TS=\" + f2.replace('[tiab]', '')\n",
    "\n",
    "# check\n",
    "h = 6*'*'\n",
    "print(f\"\\n{h}\\nPUBMED:\\n{h}\\n{f2}\\n{h}\\nSCOPUS:\\n{h}\\n{f2_wos}\")"
   ]
  },
  {
   "cell_type": "markdown",
   "id": "1486c17f-30d6-4883-9e21-ea75734799e2",
   "metadata": {},
   "source": [
    "##### 2.3.constructo3:"
   ]
  },
  {
   "cell_type": "code",
   "execution_count": null,
   "id": "0852f37b-5bb6-4892-aee3-de02abbfe526",
   "metadata": {
    "scrolled": true
   },
   "outputs": [],
   "source": [
    "# importar y convertir a string\n",
    "c3_pm_path = f\"{const_folder}/{const_3}\"\n",
    "with open(c3_pm_path, \"r\", encoding=\"utf-8\") as file:\n",
    "    f3 = file.read()\n",
    "\n",
    "# eliminar headers y espacios en blanco sobrantes, añadir prefijo WOS y quitar [tiab]\n",
    "f3 = rm_head(f3)\n",
    "f3_wos = 'TS=' + f3.replace(\"[tiab]\", \"\")\n",
    "\n",
    "# check\n",
    "h = 6*'*'\n",
    "print(f\"\\n{h}\\nPUBMED:\\n{h}\\n{f3}\\n{h}\\nSCOPUS:\\n{h}\\n{f3_wos}\")"
   ]
  },
  {
   "cell_type": "markdown",
   "id": "d5c5350f-3eae-45bb-b565-66d6ed5e918d",
   "metadata": {},
   "source": [
    "##### 2.4.constructo4:"
   ]
  },
  {
   "cell_type": "code",
   "execution_count": null,
   "id": "31302902-941f-4ce8-90b1-d55ec688f018",
   "metadata": {},
   "outputs": [],
   "source": [
    "# importar y convertir a string\n",
    "c4_pm_path = f\"{const_folder}/{const_4}\"\n",
    "with open(c4_pm_path, \"r\", encoding=\"utf-8\") as file:\n",
    "    f4 = file.read()\n",
    "\n",
    "# eliminar headers y espacios en blanco sobrantes y añadir prefijo WOS\n",
    "f4 = rm_head(f4)\n",
    "f4_wos = 'TS=(' + f4 + \")\"\n",
    "\n",
    "# quitar [tiab] y términos MeSH\n",
    "recambios = ['\"Computational Biology\"[Mesh] OR ', \"[Mesh]\", \"[tiab]\"]\n",
    "for x in recambios:\n",
    "    f4_wos = f4_wos.replace(x, '')\n",
    "\n",
    "# check\n",
    "h = 6*'*'\n",
    "print(f\"\\n{h}\\nPUBMED:\\n{h}\\n{f4}\\n{h}\\nSCOPUS:\\n{h}\\n{f4_wos}\")"
   ]
  },
  {
   "cell_type": "markdown",
   "id": "fa4ec601-d863-4e38-93ba-1e59ad229372",
   "metadata": {},
   "source": [
    "##### 2.5.constructo5:"
   ]
  },
  {
   "cell_type": "code",
   "execution_count": null,
   "id": "92e158da-4162-4968-8409-b5830f125142",
   "metadata": {
    "scrolled": true
   },
   "outputs": [],
   "source": [
    "# importar y convertir a string\n",
    "c5_pm_path = f\"{const_folder}/{const_5}\"\n",
    "with open(c5_pm_path, \"r\", encoding=\"utf-8\") as file:\n",
    "    f5 = file.read()\n",
    "\n",
    "# eliminar headers y espacios en blanco sobrantes y añadir prefijo WOS\n",
    "f5 = rm_head(f5)\n",
    "f5_wos = 'TS=(' + f5 + \")\"\n",
    "\n",
    "# quitar [tiab] y términos MeSH\n",
    "recambios = [\"[Mesh]\", \"[tiab]\"]\n",
    "for x in recambios:\n",
    "    f5_wos = f5_wos.replace(x, '')\n",
    "\n",
    "# check\n",
    "h = 6*'*'\n",
    "print(f\"\\n{h}\\nPUBMED:\\n{h}\\n{f5}\\n{h}\\nSCOPUS:\\n{h}\\n{f5_wos}\")"
   ]
  },
  {
   "cell_type": "markdown",
   "id": "d14f8287-50c9-43f9-8177-2ca6185fea96",
   "metadata": {},
   "source": [
    "***\n",
    "***\n",
    "### pubmed queries"
   ]
  },
  {
   "cell_type": "code",
   "execution_count": null,
   "id": "9fcada77-2fed-4d74-84e7-60db3e0fc33b",
   "metadata": {
    "scrolled": true
   },
   "outputs": [],
   "source": [
    "# check\n",
    "pm_qs = [f1, f2, f3, f4, f5]\n",
    "for q in pm_qs:\n",
    "    print(\"\\n\", q)\n",
    "\n",
    "# definir directorio de salida\n",
    "pm_dir = \"Anexo_1_carpeta_2_PubMed_queries/\"\n",
    "# export to .txt\n",
    "count = 0\n",
    "for c in pm_qs:\n",
    "    count += 1\n",
    "    construct = c\n",
    "    pmqs_path = f\"{pm_dir}PM_query_{count}.txt\"\n",
    "    with open(pmqs_path, \"w\", encoding=\"utf-8\") as file:\n",
    "        file.write(construct)"
   ]
  },
  {
   "cell_type": "markdown",
   "id": "86647cf6-4969-4a5a-98a4-f0280d555faf",
   "metadata": {},
   "source": [
    "***\n",
    "***\n",
    "### WOS queries"
   ]
  },
  {
   "cell_type": "code",
   "execution_count": null,
   "id": "44c2be52-8c3f-4024-a9c8-cca9645f0a45",
   "metadata": {},
   "outputs": [],
   "source": [
    "# checkear constructos WOS\n",
    "wos_cs = [f1_wos, f2_wos, f3_wos, f4_wos, f5_wos]\n",
    "for x in wos_cs:\n",
    "    print(x, \"\\n\")\n",
    "\n",
    "# definir WOS_dir\n",
    "WOS_dir = \"Anexo_1_carpeta_3_WOS_queries/\"\n",
    "# export to .txt\n",
    "count = 0\n",
    "for c in wos_cs:\n",
    "    count += 1\n",
    "    construct = c\n",
    "    wosc_path = f\"{WOS_dir}WOS_query_{count}.txt\"\n",
    "    with open(wosc_path, \"w\", encoding=\"utf-8\") as file:\n",
    "        file.write(construct)"
   ]
  }
 ],
 "metadata": {
  "kernelspec": {
   "display_name": "Python 3 (ipykernel)",
   "language": "python",
   "name": "python3"
  },
  "language_info": {
   "codemirror_mode": {
    "name": "ipython",
    "version": 3
   },
   "file_extension": ".py",
   "mimetype": "text/x-python",
   "name": "python",
   "nbconvert_exporter": "python",
   "pygments_lexer": "ipython3",
   "version": "3.10.16"
  }
 },
 "nbformat": 4,
 "nbformat_minor": 5
}
