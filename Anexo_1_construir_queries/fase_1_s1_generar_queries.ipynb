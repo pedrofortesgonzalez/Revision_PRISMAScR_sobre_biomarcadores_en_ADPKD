{
 "cells": [
  {
   "cell_type": "markdown",
   "id": "774744a9-fc28-4cd7-b8bf-f02732346d23",
   "metadata": {},
   "source": [
    "***\n",
    "### 1.configurar WEnv y WDir"
   ]
  },
  {
   "cell_type": "code",
   "execution_count": 1,
   "id": "e5cf873c-d462-4077-9dbd-28e929fefa05",
   "metadata": {},
   "outputs": [
    {
     "name": "stdout",
     "output_type": "stream",
     "text": [
      "/Users/pedrofortesgonzalez/Desktop/MASTER_UNIR/31_TFM/3_repo/Anexo_1_construir_queries\n"
     ]
    },
    {
     "name": "stderr",
     "output_type": "stream",
     "text": [
      "/Users/pedrofortesgonzalez/miniconda3/lib/python3.10/site-packages/session_info/main.py:213: UserWarning: The '__version__' attribute is deprecated and will be removed in MarkupSafe 3.1. Use feature detection, or `importlib.metadata.version(\"markupsafe\")`, instead.\n",
      "  mod_version = _find_version(mod.__version__)\n"
     ]
    },
    {
     "data": {
      "text/html": [
       "<details>\n",
       "<summary>Click to view session information</summary>\n",
       "<pre>\n",
       "-----\n",
       "session_info        1.0.0\n",
       "-----\n",
       "</pre>\n",
       "<details>\n",
       "<summary>Click to view modules imported as dependencies</summary>\n",
       "<pre>\n",
       "CoreFoundation              NA\n",
       "Foundation                  NA\n",
       "PyObjCTools                 NA\n",
       "anyio                       NA\n",
       "appnope                     0.1.4\n",
       "arrow                       1.3.0\n",
       "astroid                     3.3.8\n",
       "asttokens                   NA\n",
       "attr                        25.3.0\n",
       "attrs                       25.3.0\n",
       "babel                       2.17.0\n",
       "backports                   NA\n",
       "brotli                      1.0.9\n",
       "certifi                     2025.08.03\n",
       "chardet                     4.0.0\n",
       "charset_normalizer          3.3.2\n",
       "comm                        0.2.2\n",
       "cython_runtime              NA\n",
       "dateutil                    2.9.0.post0\n",
       "debugpy                     1.6.7\n",
       "decorator                   5.2.1\n",
       "exceptiongroup              1.2.2\n",
       "executing                   2.1.0\n",
       "fastjsonschema              NA\n",
       "fqdn                        NA\n",
       "idna                        3.7\n",
       "ipykernel                   6.29.5\n",
       "isoduration                 NA\n",
       "jaraco                      NA\n",
       "jedi                        0.19.2\n",
       "jinja2                      3.1.6\n",
       "json5                       0.10.0\n",
       "jsonpointer                 2.1\n",
       "jsonschema                  4.23.0\n",
       "jsonschema_specifications   NA\n",
       "jupyter_events              0.12.0\n",
       "jupyter_server              2.15.0\n",
       "jupyterlab_server           2.27.3\n",
       "markupsafe                  3.0.2\n",
       "more_itertools              10.3.0\n",
       "nbformat                    5.10.4\n",
       "objc                        11.0\n",
       "overrides                   NA\n",
       "packaging                   24.2\n",
       "parso                       0.8.4\n",
       "pickleshare                 0.7.5\n",
       "pkg_resources               NA\n",
       "platformdirs                3.10.0\n",
       "prometheus_client           NA\n",
       "prompt_toolkit              3.0.50\n",
       "psutil                      7.0.0\n",
       "pure_eval                   0.2.3\n",
       "pydev_ipython               NA\n",
       "pydevconsole                NA\n",
       "pydevd                      2.9.5\n",
       "pydevd_file_utils           NA\n",
       "pydevd_plugins              NA\n",
       "pydevd_tracing              NA\n",
       "pygments                    2.15.1\n",
       "pyteomics                   NA\n",
       "pythonjsonlogger            NA\n",
       "referencing                 NA\n",
       "requests                    2.32.3\n",
       "rfc3339_validator           0.1.4\n",
       "rfc3986_validator           0.1.1\n",
       "rpds                        NA\n",
       "send2trash                  NA\n",
       "simplejson                  3.20.1\n",
       "six                         1.17.0\n",
       "sniffio                     1.3.1\n",
       "socks                       1.7.1\n",
       "sphinxcontrib               NA\n",
       "stack_data                  0.6.3\n",
       "tornado                     6.4.2\n",
       "traitlets                   5.14.3\n",
       "typing_extensions           NA\n",
       "uri_template                NA\n",
       "urllib3                     2.3.0\n",
       "wcwidth                     0.2.13\n",
       "webcolors                   NA\n",
       "websocket                   1.8.0\n",
       "yaml                        6.0.2\n",
       "zmq                         25.1.1\n",
       "zstandard                   0.23.0\n",
       "</pre>\n",
       "</details> <!-- seems like this ends pre, so might as well be explicit -->\n",
       "<pre>\n",
       "-----\n",
       "IPython             8.34.0\n",
       "jupyter_client      8.6.3\n",
       "jupyter_core        5.7.2\n",
       "jupyterlab          4.3.6\n",
       "notebook            7.3.3\n",
       "-----\n",
       "Python 3.10.16 (main, Dec 11 2024, 10:24:41) [Clang 14.0.6 ]\n",
       "macOS-10.16-x86_64-i386-64bit\n",
       "-----\n",
       "Session information updated at 2025-09-11 14:03\n",
       "</pre>\n",
       "</details>"
      ],
      "text/plain": [
       "<IPython.core.display.HTML object>"
      ]
     },
     "execution_count": 1,
     "metadata": {},
     "output_type": "execute_result"
    }
   ],
   "source": [
    "# importar librerías\n",
    "import os, sys, session_info, re\n",
    "\n",
    "# comprobar WD\n",
    "print(os.getcwd())\n",
    "\n",
    "# mostrar dependencias\n",
    "session_info.show()"
   ]
  },
  {
   "cell_type": "code",
   "execution_count": 2,
   "id": "b836db5f-18e2-4b8d-92a5-6f232fa6302f",
   "metadata": {},
   "outputs": [],
   "source": [
    "def rm_head(string: str) -> str:\n",
    "    \"\"\"\n",
    "    Elimina encabezados que comienzan con # de un texto.\n",
    "    \n",
    "    Args:\n",
    "        string (str): Texto de entrada que puede contener encabezados\n",
    "        \n",
    "    Returns:\n",
    "        str: Texto sin los encabezados que comenzaban con #\n",
    "        \n",
    "    Example:\n",
    "        >>> text = \"#Header\\\\nContent\\\\n#Another header\\\\nMore content\"\n",
    "        >>> rm_head(text)\n",
    "        'Content\\\\nMore content'\n",
    "    \"\"\"\n",
    "    header = r'^#.*$'\n",
    "    string = re.sub(pattern=header, repl='', string=string, flags=re.MULTILINE)\n",
    "    return string.strip()"
   ]
  },
  {
   "cell_type": "markdown",
   "id": "a8fcee23-8a14-495d-bcd0-9db1e8248762",
   "metadata": {},
   "source": [
    "***\n",
    "### 2.procesado\n",
    "\n",
    "Definir variables de rutas antes de ejecutar nada"
   ]
  },
  {
   "cell_type": "code",
   "execution_count": 3,
   "id": "30c53f2f-024a-4f1a-9aca-6184dbee9db6",
   "metadata": {},
   "outputs": [],
   "source": [
    "# constructos en .txt\n",
    "const_folder = f\"./Anexo_1_carpeta_1_constructos/\"         # folder con los constructos en .txt\n",
    "const_1 = f\"constructo_1_mesh_kidney_diseases.txt\"     # constructo 1.txt\n",
    "const_2 = f\"constructo_2_adpkd.txt\"                    # constructo 2.txt\n",
    "const_3 = f\"constructo_3_genes.txt\"                    # constructo 3.txt\n",
    "const_4 = f\"constructo_4_omicas_bio_computacional.txt\" # constructo 4.txt\n",
    "const_5 = f\"constructo_5_biomarcadores.txt\"            # constructo 5.txt"
   ]
  },
  {
   "cell_type": "markdown",
   "id": "af7731b7-f2b2-44b6-bbea-68ab68a02f7b",
   "metadata": {},
   "source": [
    "Ahora, a partir de los .txt construyo primero la query en PubMed, y luego la tconvierto a WOS\n",
    "\n",
    "##### 2.1.constructo1:"
   ]
  },
  {
   "cell_type": "code",
   "execution_count": 4,
   "id": "0623a08d-81b2-490e-b771-2c51597a289f",
   "metadata": {},
   "outputs": [
    {
     "name": "stdout",
     "output_type": "stream",
     "text": [
      "\n",
      "******\n",
      "PUBMED:\n",
      "******\n",
      "(\"Kidney Diseases/congenital\"[Mesh] OR \"Kidney Diseases/genetics\"[Mesh] OR \"genetic kidney disease*\"[tiab] OR \"congenital kidney disease*\"[tiab] OR \"hereditary kidney disease*\"[tiab] OR \"renal disease*\"[tiab] OR \"congenital anomal*\"[tiab])\n",
      "******\n",
      "WOS:\n",
      "******\n",
      "TS=(\"genetic kidney disease*\" OR \"congenital kidney disease*\" OR \"hereditary kidney disease*\" OR \"renal disease*\" OR \"congenital anomal*\" OR (\"kidney disease*\" AND (\"congenital\" OR \"genetic*\" OR \"hereditary\")))\n"
     ]
    }
   ],
   "source": [
    "# importar y convertir a string\n",
    "c1_pm_path = f\"{const_folder}/{const_1}\"\n",
    "with open(c1_pm_path, \"r\", encoding=\"utf-8\") as file:\n",
    "    f1 = file.read()\n",
    "\n",
    "# eliminar headers y espacios en blanco sobrantes, añadir prefijo WOS y quitar [tiab]\n",
    "f1 = rm_head(f1)\n",
    "f1_wos = \"TS=\" + f1.replace('[tiab]', '')\n",
    "\n",
    "# Eliminar términos Mesh (ya están representados en el resto de keywords)\n",
    "# y añadir grupo de búsqueda para aumentar exhaustividad de la query --> esto detecta los artículos no indexados\n",
    "mesh_term = '\"Kidney Diseases/congenital\"[Mesh] OR \"Kidney Diseases/genetics\"[Mesh] OR '\n",
    "appendix = ' OR (\"kidney disease*\" AND (\"congenital\" OR \"genetic*\" OR \"hereditary\")))'\n",
    "f1_wos = f1_wos.replace(mesh_term, '')[:-1] + appendix\n",
    "\n",
    "# check result\n",
    "h = 6*'*'\n",
    "print(f\"\\n{h}\\nPUBMED:\\n{h}\\n{f1}\\n{h}\\nWOS:\\n{h}\\n{f1_wos}\")"
   ]
  },
  {
   "cell_type": "markdown",
   "id": "26779b12-6b64-402b-9eb0-214e6f44ce38",
   "metadata": {},
   "source": [
    "##### 2.2.constructo2:"
   ]
  },
  {
   "cell_type": "code",
   "execution_count": 5,
   "id": "c604e99e-6219-4775-9a3f-3cacc856260c",
   "metadata": {},
   "outputs": [
    {
     "name": "stdout",
     "output_type": "stream",
     "text": [
      "\n",
      "******\n",
      "PUBMED:\n",
      "******\n",
      "(\"Polycystic Kidney*\"[tiab] OR \"Polycystic Kidney Disease*\"[tiab] OR \"PKD\"[tiab] OR \"ADPKD*\"[tiab] OR \"Renal Cyst*\"[tiab] OR \"Cyst*\"[tiab])\n",
      "******\n",
      "SCOPUS:\n",
      "******\n",
      "TS=(\"Polycystic Kidney*\" OR \"Polycystic Kidney Disease*\" OR \"PKD\" OR \"ADPKD*\" OR \"Renal Cyst*\" OR \"Cyst*\")\n"
     ]
    }
   ],
   "source": [
    "# importar y convertir a string\n",
    "c2_pm_path = f\"{const_folder}/{const_2}\"\n",
    "with open(c2_pm_path, \"r\", encoding=\"utf-8\") as file:\n",
    "    f2 = file.read()\n",
    "\n",
    "# eliminar headers y espacios en blanco sobrantes, añadir prefijo WOS y quitar [tiab]\n",
    "f2 = rm_head(f2)\n",
    "f2_wos = \"TS=\" + f2.replace('[tiab]', '')\n",
    "\n",
    "# check\n",
    "h = 6*'*'\n",
    "print(f\"\\n{h}\\nPUBMED:\\n{h}\\n{f2}\\n{h}\\nSCOPUS:\\n{h}\\n{f2_wos}\")"
   ]
  },
  {
   "cell_type": "markdown",
   "id": "1486c17f-30d6-4883-9e21-ea75734799e2",
   "metadata": {},
   "source": [
    "##### 2.3.constructo3:"
   ]
  },
  {
   "cell_type": "code",
   "execution_count": 6,
   "id": "0852f37b-5bb6-4892-aee3-de02abbfe526",
   "metadata": {
    "scrolled": true
   },
   "outputs": [
    {
     "name": "stdout",
     "output_type": "stream",
     "text": [
      "\n",
      "******\n",
      "PUBMED:\n",
      "******\n",
      "(\"PKD1\"[tiab] OR \"PKD2\"[tiab])\n",
      "******\n",
      "SCOPUS:\n",
      "******\n",
      "TS=(\"PKD1\" OR \"PKD2\")\n"
     ]
    }
   ],
   "source": [
    "# importar y convertir a string\n",
    "c3_pm_path = f\"{const_folder}/{const_3}\"\n",
    "with open(c3_pm_path, \"r\", encoding=\"utf-8\") as file:\n",
    "    f3 = file.read()\n",
    "\n",
    "# eliminar headers y espacios en blanco sobrantes, añadir prefijo WOS y quitar [tiab]\n",
    "f3 = rm_head(f3)\n",
    "f3_wos = 'TS=' + f3.replace(\"[tiab]\", \"\")\n",
    "\n",
    "# check\n",
    "h = 6*'*'\n",
    "print(f\"\\n{h}\\nPUBMED:\\n{h}\\n{f3}\\n{h}\\nSCOPUS:\\n{h}\\n{f3_wos}\")"
   ]
  },
  {
   "cell_type": "markdown",
   "id": "d5c5350f-3eae-45bb-b565-66d6ed5e918d",
   "metadata": {},
   "source": [
    "##### 2.4.constructo4:"
   ]
  },
  {
   "cell_type": "code",
   "execution_count": 7,
   "id": "31302902-941f-4ce8-90b1-d55ec688f018",
   "metadata": {},
   "outputs": [
    {
     "name": "stdout",
     "output_type": "stream",
     "text": [
      "\n",
      "******\n",
      "PUBMED:\n",
      "******\n",
      "\"Computational Biology\"[Mesh] OR \"Multiomics\"[Mesh] OR \"omic*\"[tiab] OR \"genom*\"[tiab] OR \"transcriptom*\"[tiab] OR \"proteom*\"[tiab] OR \"metabolom*\"[tiab] OR \"lipidom*\"[tiab] OR \"phenom*\"[tiab] OR \"phenotyp*\"[tiab] OR \"envirom*\"[tiab] OR \"multi-omic*\"[tiab] OR \"bioinformatic*\"[tiab] OR \"computational biology\"[tiab] OR \"big data\"[tiab] OR \"machine learning\"[tiab] OR \"artificial intelligence\"[tiab] OR \"predict* model*\"[tiab] OR \"biostatistic*\"[tiab]\n",
      "******\n",
      "SCOPUS:\n",
      "******\n",
      "TS=(\"Multiomics\" OR \"omic*\" OR \"genom*\" OR \"transcriptom*\" OR \"proteom*\" OR \"metabolom*\" OR \"lipidom*\" OR \"phenom*\" OR \"phenotyp*\" OR \"envirom*\" OR \"multi-omic*\" OR \"bioinformatic*\" OR \"computational biology\" OR \"big data\" OR \"machine learning\" OR \"artificial intelligence\" OR \"predict* model*\" OR \"biostatistic*\")\n"
     ]
    }
   ],
   "source": [
    "# importar y convertir a string\n",
    "c4_pm_path = f\"{const_folder}/{const_4}\"\n",
    "with open(c4_pm_path, \"r\", encoding=\"utf-8\") as file:\n",
    "    f4 = file.read()\n",
    "\n",
    "# eliminar headers y espacios en blanco sobrantes y añadir prefijo WOS\n",
    "f4 = rm_head(f4)\n",
    "f4_wos = 'TS=(' + f4 + \")\"\n",
    "\n",
    "# quitar [tiab] y términos MeSH\n",
    "recambios = ['\"Computational Biology\"[Mesh] OR ', \"[Mesh]\", \"[tiab]\"]\n",
    "for x in recambios:\n",
    "    f4_wos = f4_wos.replace(x, '')\n",
    "\n",
    "# check\n",
    "h = 6*'*'\n",
    "print(f\"\\n{h}\\nPUBMED:\\n{h}\\n{f4}\\n{h}\\nSCOPUS:\\n{h}\\n{f4_wos}\")"
   ]
  },
  {
   "cell_type": "markdown",
   "id": "fa4ec601-d863-4e38-93ba-1e59ad229372",
   "metadata": {},
   "source": [
    "##### 2.5.constructo5:"
   ]
  },
  {
   "cell_type": "code",
   "execution_count": 8,
   "id": "92e158da-4162-4968-8409-b5830f125142",
   "metadata": {
    "scrolled": true
   },
   "outputs": [
    {
     "name": "stdout",
     "output_type": "stream",
     "text": [
      "\n",
      "******\n",
      "PUBMED:\n",
      "******\n",
      "\"Endophenotypes\"[Mesh] OR \"Biomarkers\"[Mesh] OR \"biomarker*\"[tiab] OR \"bio-marker*\"[tiab] OR \"clinical marker*\"[tiab] OR \"prognostic marker*\"[tiab] OR \"diagnostic marker*\"[tiab]\n",
      "******\n",
      "SCOPUS:\n",
      "******\n",
      "TS=(\"Endophenotypes\" OR \"Biomarkers\" OR \"biomarker*\" OR \"bio-marker*\" OR \"clinical marker*\" OR \"prognostic marker*\" OR \"diagnostic marker*\")\n"
     ]
    }
   ],
   "source": [
    "# importar y convertir a string\n",
    "c5_pm_path = f\"{const_folder}/{const_5}\"\n",
    "with open(c5_pm_path, \"r\", encoding=\"utf-8\") as file:\n",
    "    f5 = file.read()\n",
    "\n",
    "# eliminar headers y espacios en blanco sobrantes y añadir prefijo WOS\n",
    "f5 = rm_head(f5)\n",
    "f5_wos = 'TS=(' + f5 + \")\"\n",
    "\n",
    "# quitar [tiab] y términos MeSH\n",
    "recambios = [\"[Mesh]\", \"[tiab]\"]\n",
    "for x in recambios:\n",
    "    f5_wos = f5_wos.replace(x, '')\n",
    "\n",
    "# check\n",
    "h = 6*'*'\n",
    "print(f\"\\n{h}\\nPUBMED:\\n{h}\\n{f5}\\n{h}\\nSCOPUS:\\n{h}\\n{f5_wos}\")"
   ]
  },
  {
   "cell_type": "markdown",
   "id": "d14f8287-50c9-43f9-8177-2ca6185fea96",
   "metadata": {},
   "source": [
    "***\n",
    "***\n",
    "### pubmed queries"
   ]
  },
  {
   "cell_type": "code",
   "execution_count": 9,
   "id": "9fcada77-2fed-4d74-84e7-60db3e0fc33b",
   "metadata": {
    "scrolled": true
   },
   "outputs": [
    {
     "name": "stdout",
     "output_type": "stream",
     "text": [
      "\n",
      " (\"Kidney Diseases/congenital\"[Mesh] OR \"Kidney Diseases/genetics\"[Mesh] OR \"genetic kidney disease*\"[tiab] OR \"congenital kidney disease*\"[tiab] OR \"hereditary kidney disease*\"[tiab] OR \"renal disease*\"[tiab] OR \"congenital anomal*\"[tiab])\n",
      "\n",
      " (\"Polycystic Kidney*\"[tiab] OR \"Polycystic Kidney Disease*\"[tiab] OR \"PKD\"[tiab] OR \"ADPKD*\"[tiab] OR \"Renal Cyst*\"[tiab] OR \"Cyst*\"[tiab])\n",
      "\n",
      " (\"PKD1\"[tiab] OR \"PKD2\"[tiab])\n",
      "\n",
      " \"Computational Biology\"[Mesh] OR \"Multiomics\"[Mesh] OR \"omic*\"[tiab] OR \"genom*\"[tiab] OR \"transcriptom*\"[tiab] OR \"proteom*\"[tiab] OR \"metabolom*\"[tiab] OR \"lipidom*\"[tiab] OR \"phenom*\"[tiab] OR \"phenotyp*\"[tiab] OR \"envirom*\"[tiab] OR \"multi-omic*\"[tiab] OR \"bioinformatic*\"[tiab] OR \"computational biology\"[tiab] OR \"big data\"[tiab] OR \"machine learning\"[tiab] OR \"artificial intelligence\"[tiab] OR \"predict* model*\"[tiab] OR \"biostatistic*\"[tiab]\n",
      "\n",
      " \"Endophenotypes\"[Mesh] OR \"Biomarkers\"[Mesh] OR \"biomarker*\"[tiab] OR \"bio-marker*\"[tiab] OR \"clinical marker*\"[tiab] OR \"prognostic marker*\"[tiab] OR \"diagnostic marker*\"[tiab]\n"
     ]
    }
   ],
   "source": [
    "# check\n",
    "pm_qs = [f1, f2, f3, f4, f5]\n",
    "for q in pm_qs:\n",
    "    print(\"\\n\", q)\n",
    "\n",
    "# definir directorio de salida\n",
    "pm_dir = \"Anexo_1_carpeta_2_PubMed_queries/\"\n",
    "# export to .txt\n",
    "count = 0\n",
    "for c in pm_qs:\n",
    "    count += 1\n",
    "    construct = c\n",
    "    pmqs_path = f\"{pm_dir}PM_query_{count}.txt\"\n",
    "    with open(pmqs_path, \"w\", encoding=\"utf-8\") as file:\n",
    "        file.write(construct)"
   ]
  },
  {
   "cell_type": "markdown",
   "id": "86647cf6-4969-4a5a-98a4-f0280d555faf",
   "metadata": {},
   "source": [
    "***\n",
    "***\n",
    "### WOS queries"
   ]
  },
  {
   "cell_type": "code",
   "execution_count": 10,
   "id": "44c2be52-8c3f-4024-a9c8-cca9645f0a45",
   "metadata": {},
   "outputs": [
    {
     "name": "stdout",
     "output_type": "stream",
     "text": [
      "TS=(\"genetic kidney disease*\" OR \"congenital kidney disease*\" OR \"hereditary kidney disease*\" OR \"renal disease*\" OR \"congenital anomal*\" OR (\"kidney disease*\" AND (\"congenital\" OR \"genetic*\" OR \"hereditary\"))) \n",
      "\n",
      "TS=(\"Polycystic Kidney*\" OR \"Polycystic Kidney Disease*\" OR \"PKD\" OR \"ADPKD*\" OR \"Renal Cyst*\" OR \"Cyst*\") \n",
      "\n",
      "TS=(\"PKD1\" OR \"PKD2\") \n",
      "\n",
      "TS=(\"Multiomics\" OR \"omic*\" OR \"genom*\" OR \"transcriptom*\" OR \"proteom*\" OR \"metabolom*\" OR \"lipidom*\" OR \"phenom*\" OR \"phenotyp*\" OR \"envirom*\" OR \"multi-omic*\" OR \"bioinformatic*\" OR \"computational biology\" OR \"big data\" OR \"machine learning\" OR \"artificial intelligence\" OR \"predict* model*\" OR \"biostatistic*\") \n",
      "\n",
      "TS=(\"Endophenotypes\" OR \"Biomarkers\" OR \"biomarker*\" OR \"bio-marker*\" OR \"clinical marker*\" OR \"prognostic marker*\" OR \"diagnostic marker*\") \n",
      "\n"
     ]
    }
   ],
   "source": [
    "# checkear constructos WOS\n",
    "wos_cs = [f1_wos, f2_wos, f3_wos, f4_wos, f5_wos]\n",
    "for x in wos_cs:\n",
    "    print(x, \"\\n\")\n",
    "\n",
    "# definir WOS_dir\n",
    "WOS_dir = \"Anexo_1_carpeta_3_WOS_queries/\"\n",
    "# export to .txt\n",
    "count = 0\n",
    "for c in wos_cs:\n",
    "    count += 1\n",
    "    construct = c\n",
    "    wosc_path = f\"{WOS_dir}WOS_query_{count}.txt\"\n",
    "    with open(wosc_path, \"w\", encoding=\"utf-8\") as file:\n",
    "        file.write(construct)"
   ]
  }
 ],
 "metadata": {
  "kernelspec": {
   "display_name": "Python 3 (ipykernel)",
   "language": "python",
   "name": "python3"
  },
  "language_info": {
   "codemirror_mode": {
    "name": "ipython",
    "version": 3
   },
   "file_extension": ".py",
   "mimetype": "text/x-python",
   "name": "python",
   "nbconvert_exporter": "python",
   "pygments_lexer": "ipython3",
   "version": "3.10.16"
  }
 },
 "nbformat": 4,
 "nbformat_minor": 5
}
