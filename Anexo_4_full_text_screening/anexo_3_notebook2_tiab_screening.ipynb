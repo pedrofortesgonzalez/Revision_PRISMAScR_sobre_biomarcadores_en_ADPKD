{
 "cells": [
  {
   "cell_type": "markdown",
   "id": "90679c9c-b80f-4c53-9a0d-ed7bb3fbe8eb",
   "metadata": {},
   "source": [
    "# 1.screening"
   ]
  },
  {
   "cell_type": "code",
   "execution_count": null,
   "id": "7ff72ae0-d709-47f4-b7b7-fa8bf3c86ad7",
   "metadata": {},
   "outputs": [],
   "source": [
    "import os, pandas as pd, numpy as np # importar funciones externas\n",
    "import anexo_3_udfs as mf            # importar funciones propias (UDFS)\n",
    "\n",
    "print(os.getcwd())                   # comprobar WD\n",
    "\n",
    "mf.viz()                             # ampliar visualizaciones de pandas"
   ]
  },
  {
   "cell_type": "markdown",
   "id": "d31d4765-b37a-401b-9623-672f7c962428",
   "metadata": {},
   "source": [
    "### importar dataframes"
   ]
  },
  {
   "cell_type": "code",
   "execution_count": null,
   "id": "c9fe2e10-cb39-4a63-9ef0-0905930dffb3",
   "metadata": {},
   "outputs": [],
   "source": [
    "# last re-check: repetir lo mismo para df entero\n",
    "input_path = 'Anexo_3_carpeta_1_inputs/tabla_3.3.1_articulos_para_screening.csv'\n",
    "df = pd.read_csv(input_path)\n",
    "abs_vc_df = df[\"Abstract Note\"].isna().value_counts(dropna=False)\n",
    "print(f\"Nº de artículos sin abstract (en todo el df): {abs_vc_df}\\n\")"
   ]
  },
  {
   "cell_type": "markdown",
   "id": "f6de83b8-6435-4e5a-91fc-d6217b2958dd",
   "metadata": {},
   "source": [
    "# 2.screening"
   ]
  },
  {
   "cell_type": "markdown",
   "id": "11fa7b09-f216-4521-b14e-8ba8d75099b7",
   "metadata": {},
   "source": [
    "***\n",
    "##### SETTING KEYWORDS & SCREENING"
   ]
  },
  {
   "cell_type": "raw",
   "id": "a735e6e3-68f6-4f76-9805-9c1d075c8284",
   "metadata": {
    "scrolled": true
   },
   "source": [
    "# Lista de palabras clave relevantes para tu tema: (constructs 2 y 3)\n",
    "to_highlight = [\"PKD1\", \"PKD2\", \"Polycystic Kidney\", \"Polycystic Kidney Disease\", \"ADPKD\", \"PKD\", \"Renal Cyst\", \"Cyst\", \"omic\", \"software\", \"model\", \"info\", \"predictive\"]\n",
    "\n",
    "# Screening\n",
    "print(\"\\n=== INICIANDO REVISIÓN DE ARTÍCULOS CON ABSTRACT ===\\n\")\n",
    "df = mf.interactive_screening(df, to_highlight)"
   ]
  },
  {
   "cell_type": "markdown",
   "id": "a04e5ad4-50b3-41d7-8685-ba9980387d7e",
   "metadata": {},
   "source": [
    "***\n",
    "CHECKBOX COL ANALYSIS"
   ]
  },
  {
   "cell_type": "code",
   "execution_count": null,
   "id": "829a9c61-4cfe-4dca-b29d-b8fd22deeb9f",
   "metadata": {},
   "outputs": [],
   "source": [
    "# importar dataframe\n",
    "path = \"Anexo_3_carpeta_2_resultados/tabla_3.4_screening_wip.csv\"\n",
    "cdf = pd.read_csv(path, sep=\";\")\n",
    "\n",
    "# columnas checkbox\n",
    "cols = [\"ADPKD?\", \"OMICS?\", \"BIOINFO?\", \"HUMAN DATA?\", \"BIOMARKER?\", \"TRASLATIONAL?\", \"DECISION\", \"COMMENT\"]"
   ]
  },
  {
   "cell_type": "code",
   "execution_count": null,
   "id": "33b9fd11-f827-4a51-985e-bdea143c7c7f",
   "metadata": {},
   "outputs": [],
   "source": [
    "i = 0\n",
    "c = cols[i+1]\n",
    "cdf[c].value_counts(dropna=False)"
   ]
  },
  {
   "cell_type": "code",
   "execution_count": null,
   "id": "e29b1582-f069-4152-87f3-9877dc2a9d75",
   "metadata": {},
   "outputs": [],
   "source": [
    "i +=1\n",
    "c = cols[i]\n",
    "cdf[c].value_counts(dropna=False)"
   ]
  },
  {
   "cell_type": "code",
   "execution_count": null,
   "id": "1e86b780-bc50-4a67-8b40-a7836e015466",
   "metadata": {},
   "outputs": [],
   "source": [
    "i += 1\n",
    "c = cols[i]\n",
    "cdf[c].value_counts(dropna=False)"
   ]
  },
  {
   "cell_type": "code",
   "execution_count": null,
   "id": "8fc165f1-1338-4f59-b71d-d089c6e63cc1",
   "metadata": {},
   "outputs": [],
   "source": [
    "i += 1\n",
    "c = cols[i]\n",
    "cdf[c].value_counts(dropna=False)"
   ]
  },
  {
   "cell_type": "code",
   "execution_count": null,
   "id": "69822e4c-c7e3-4dd1-a2a7-75841c64660f",
   "metadata": {
    "scrolled": true
   },
   "outputs": [],
   "source": [
    "i += 1\n",
    "c = cols[i]\n",
    "list(cdf[c].value_counts(dropna=False).index)"
   ]
  },
  {
   "cell_type": "code",
   "execution_count": null,
   "id": "9b8b199a-d598-4f80-b592-e27b6813639c",
   "metadata": {},
   "outputs": [],
   "source": [
    "i += 1\n",
    "c = cols[i]\n",
    "list(cdf[c].value_counts(dropna=False).index)"
   ]
  },
  {
   "cell_type": "code",
   "execution_count": null,
   "id": "004adeef-f75f-4d83-ba5e-554e896326d9",
   "metadata": {},
   "outputs": [],
   "source": [
    "i += 1\n",
    "c = cols[i]\n",
    "cdf[c].value_counts(dropna=False)"
   ]
  },
  {
   "cell_type": "code",
   "execution_count": null,
   "id": "69e215bf-096a-4885-a4bb-d0afbfcc3028",
   "metadata": {
    "scrolled": true
   },
   "outputs": [],
   "source": [
    "i += 1\n",
    "c = cols[i]\n",
    "list(cdf[c].value_counts(dropna=False).index)"
   ]
  },
  {
   "cell_type": "markdown",
   "id": "18a0df04-d292-4543-b92c-3c1a12add0db",
   "metadata": {},
   "source": [
    "***\n",
    "### reclasificar comentarios de screening\n",
    "\n",
    "De una lista vasta y desorganizada pasamos a una lista condensada que nos permita decidir cuáles repasar"
   ]
  },
  {
   "cell_type": "code",
   "execution_count": null,
   "id": "e2b3f78d-a953-4e1d-99a6-5a3bbf4ec8c5",
   "metadata": {},
   "outputs": [],
   "source": [
    "# importar \n",
    "from anexo_3_dicts_resultados import dudosos_comments\n",
    "\n",
    "# Crear un diccionario invertido (para que .map funcione, ya que busca claves y asigna valores y enfermedad_dict tenía la estructura al revés)\n",
    "reclasif = {}\n",
    "for coment, dudas in dudosos_comments.items():\n",
    "    for duda in dudas:\n",
    "        reclasif[duda] = coment\n",
    "\n",
    "# mapear y comprobar\n",
    "cdf[\"MOTIVO\"] = cdf[\"COMMENT\"].map(reclasif)\n",
    "cdf[[\"DECISION\", \"MOTIVO\"]].value_counts(dropna=False)"
   ]
  },
  {
   "cell_type": "code",
   "execution_count": null,
   "id": "b22751c0-42a5-4ddb-a52a-ec9d9a40fb38",
   "metadata": {},
   "outputs": [],
   "source": [
    "# Ahora los dudosos que no repasemos se irán a exclude\n",
    "c1 = cdf[\"MOTIVO\"] != \"Repasar\"\n",
    "c2 = cdf[\"DECISION\"] == \"dudoso\"\n",
    "cdf.loc[c1 & c2, \"DECISION\"] = \"exclude\"\n",
    "cdf[[\"DECISION\", \"MOTIVO\"]].value_counts(dropna=False)"
   ]
  },
  {
   "cell_type": "markdown",
   "id": "329c40bf-3c92-4fcf-99c6-6ceaa71affe6",
   "metadata": {},
   "source": [
    "***\n",
    "### re-screen dudosos\n",
    "\n",
    "los revisaré manualmente uno por uno"
   ]
  },
  {
   "cell_type": "code",
   "execution_count": null,
   "id": "a94013b4-114a-4b92-a220-3fe77e0e8947",
   "metadata": {},
   "outputs": [],
   "source": [
    "c2 = cdf[\"DECISION\"] == \"dudoso\"\n",
    "dudosos = cdf.loc[c2]\n",
    "print(dudosos.shape)\n",
    "col = \"DOI\"\n",
    "ds = list(dudosos[col].value_counts().index)\n",
    "ds"
   ]
  },
  {
   "cell_type": "code",
   "execution_count": null,
   "id": "458cf312-35e6-4376-aaed-f6cc87c400fd",
   "metadata": {},
   "outputs": [],
   "source": [
    "col = \"Title\"\n",
    "list(dudosos[col].value_counts().index)"
   ]
  },
  {
   "cell_type": "code",
   "execution_count": null,
   "id": "792a7e4b-13a3-4128-a532-409d68eccffb",
   "metadata": {},
   "outputs": [],
   "source": [
    "col = \"COMMENT\"\n",
    "list(dudosos[col].value_counts().index)"
   ]
  },
  {
   "cell_type": "code",
   "execution_count": null,
   "id": "9c68dd37-68cf-4438-a74a-84c4e01e681e",
   "metadata": {},
   "outputs": [],
   "source": [
    "## revisaré los artículos manualmente y cambio sus valores de DECISION y MOTIVO\n",
    "\n",
    "# artículo 1\n",
    "i = 0\n",
    "c = dudosos[\"DOI\"] == ds[i]\n",
    "dudosos.loc[c, \"DECISION\"] = \"include\"\n",
    "dudosos.loc[c, \"MOTIVO\"] = np.nan\n",
    "\n",
    "# artículo 2\n",
    "i += 1\n",
    "c = dudosos[\"DOI\"] == ds[i]\n",
    "dudosos.loc[c, \"DECISION\"] = \"exclude\"\n",
    "dudosos.loc[c, \"MOTIVO\"] = \"Tienen un subgrupo de pacientes ADPKD (o pueden tenerlo), pero no queda clara su aportación\"\n",
    "\n",
    "# artículo 3\n",
    "i += 1\n",
    "c = dudosos[\"DOI\"] == ds[i]\n",
    "dudosos.loc[c, \"DECISION\"] = \"include\"\n",
    "dudosos.loc[c, \"MOTIVO\"] = np.nan\n",
    "\n",
    "# artículo 4\n",
    "i += 1\n",
    "c = dudosos[\"DOI\"] == ds[i]\n",
    "dudosos.loc[c, \"DECISION\"] = \"include\"\n",
    "dudosos.loc[c, \"MOTIVO\"] = np.nan\n",
    "\n",
    "# artículo 5\n",
    "i += 1\n",
    "c = dudosos[\"DOI\"] == ds[i]\n",
    "dudosos.loc[c, \"DECISION\"] = \"include\"\n",
    "dudosos.loc[c, \"MOTIVO\"] = np.nan\n",
    "\n",
    "# reasignar decision en cdf\n",
    "c2 = cdf[\"DECISION\"] == \"dudoso\"\n",
    "cdf.loc[c2, \"DECISION\"] = \"include\""
   ]
  },
  {
   "cell_type": "markdown",
   "id": "74e48b61-69f7-478d-bc6a-b9cf8f630698",
   "metadata": {},
   "source": [
    "# 3.dividir cdf\n",
    "in included, exlcuded, dudoso (y guardar)"
   ]
  },
  {
   "cell_type": "code",
   "execution_count": null,
   "id": "ccd337f3-f7b1-4a8f-8476-42ea1c5605af",
   "metadata": {},
   "outputs": [],
   "source": [
    "cdf.shape"
   ]
  },
  {
   "cell_type": "code",
   "execution_count": null,
   "id": "a82c594c-b212-4f1f-9361-f5c633dd2f30",
   "metadata": {},
   "outputs": [],
   "source": [
    "cdf[\"DECISION\"].value_counts()"
   ]
  },
  {
   "cell_type": "code",
   "execution_count": null,
   "id": "4d517752-23c5-4253-bad8-8ee280257b0d",
   "metadata": {},
   "outputs": [],
   "source": [
    "group = \"exclude\"\n",
    "c = cdf[\"DECISION\"] == group\n",
    "df = cdf.loc[c].copy()\n",
    "print(df.shape)\n",
    "path = f'Anexo_3_carpeta_2_resultados/tabla_3.5.2_{group}.csv'\n",
    "df.to_csv(path)"
   ]
  },
  {
   "cell_type": "code",
   "execution_count": null,
   "id": "df1a9ffd-20d2-4dbf-9cb5-e6549edf7cb3",
   "metadata": {},
   "outputs": [],
   "source": [
    "# motivos de exclusión\n",
    "cols = [\"DECISION\"]\n",
    "df[cols].value_counts()"
   ]
  },
  {
   "cell_type": "code",
   "execution_count": null,
   "id": "f22b3add-7d94-4787-a33e-22811fd146ba",
   "metadata": {},
   "outputs": [],
   "source": [
    "group = \"include\"\n",
    "c = cdf[\"DECISION\"] == group\n",
    "df = cdf.loc[c].copy()\n",
    "df = df.drop_duplicates(subset=\"DOI\")\n",
    "print(df.shape)\n",
    "path = f'Anexo_3_carpeta_2_resultados/tabla_3.5.1_{group}.csv'\n",
    "df.to_csv(path)"
   ]
  },
  {
   "cell_type": "markdown",
   "id": "c9db6b50-9a99-4d7c-a3a3-80a756d01cd3",
   "metadata": {},
   "source": [
    "# 4.actualizar stats"
   ]
  },
  {
   "cell_type": "code",
   "execution_count": null,
   "id": "b9bde386-bb67-41cd-89b0-7afbae162eab",
   "metadata": {},
   "outputs": [],
   "source": [
    "c = cdf[\"DECISION\"] == \"exclude\"\n",
    "df = cdf.loc[c].copy()\n",
    "vc = df[\"MOTIVO\"].value_counts()\n",
    "\n",
    "ex_mots = vc.reset_index()\n",
    "ex_mots.columns = [\"MOTIVO\", \"count\"]\n",
    "\n",
    "# Añadir como fila 0 el total\n",
    "temp_df = {\"MOTIVO\": [\"Excluidos: tiab screening\"],\n",
    "           \"count\": [sum(ex_mots[\"count\"])]}\n",
    "# pasar a df (y trasponer)\n",
    "temp_df = pd.DataFrame(temp_df)\n",
    "temp_df[\"count\"] = temp_df[\"count\"].astype(int)\n",
    "# concateno los dos\n",
    "ex_mots = pd.concat([temp_df, ex_mots])\n",
    "# renombro filas de ex_mots con 1ª col\n",
    "ex_mots.index = ex_mots[\"MOTIVO\"]\n",
    "ex_mots = ex_mots.iloc[:,1]\n",
    "ex_mots = pd.DataFrame(ex_mots)\n",
    "ex_mots.columns = [\"Excluidos\"]\n",
    "\n",
    "# importar stats y concatenarla a ex_mots\n",
    "stats = pd.read_csv('Anexo_3_carpeta_1_inputs/tabla_3.3.2.stats.csv', index_col=0)\n",
    "stats = pd.concat([stats, ex_mots])\n",
    "\n",
    "# hacer restas correspondientes\n",
    "stats.iloc[-5, 3] = stats.iloc[-6, 3] - stats.iloc[-5, 2]\n",
    "stats"
   ]
  },
  {
   "cell_type": "code",
   "execution_count": null,
   "id": "bccac2a5-111e-4e55-b02f-65b7bf91ea25",
   "metadata": {},
   "outputs": [],
   "source": [
    "# exportar\n",
    "stats.to_csv('Anexo_3_carpeta_2_resultados/tabla_3.5.3_stats_2.csv', index=True)\n",
    "print(\"Generado 'stats.csv' para screening\")\n",
    "print(f\"Shape: {stats.shape}\")"
   ]
  }
 ],
 "metadata": {
  "kernelspec": {
   "display_name": "Python 3 (ipykernel)",
   "language": "python",
   "name": "python3"
  },
  "language_info": {
   "codemirror_mode": {
    "name": "ipython",
    "version": 3
   },
   "file_extension": ".py",
   "mimetype": "text/x-python",
   "name": "python",
   "nbconvert_exporter": "python",
   "pygments_lexer": "ipython3",
   "version": "3.10.16"
  }
 },
 "nbformat": 4,
 "nbformat_minor": 5
}
