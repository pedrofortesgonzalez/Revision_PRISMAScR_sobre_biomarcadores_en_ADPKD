{
 "cells": [
  {
   "cell_type": "markdown",
   "id": "8ccb5a65-7097-4638-a3af-1443abd35f93",
   "metadata": {},
   "source": [
    "# 0. prep\n",
    "\n",
    "### librerías"
   ]
  },
  {
   "cell_type": "code",
   "execution_count": null,
   "id": "87b7b15d-469c-438e-a84d-152972ea4516",
   "metadata": {},
   "outputs": [],
   "source": [
    "# Ejecuta este código para crear las tablas de extracción\n",
    "import pandas as pd, numpy as np, os, re\n",
    "import fase_4_udfs as mf\n",
    "\n",
    "# comprobar WD\n",
    "print(os.getcwd())"
   ]
  },
  {
   "cell_type": "markdown",
   "id": "f5aa7369-5d7b-4361-88ac-6cae991c9c8a",
   "metadata": {},
   "source": [
    "### datasets"
   ]
  },
  {
   "cell_type": "code",
   "execution_count": null,
   "id": "0ae0001f-ff0a-433e-839f-376ea2ca45e6",
   "metadata": {
    "scrolled": true
   },
   "outputs": [],
   "source": [
    "# Inicializar las tablas vacías\n",
    "biomarkers_df = mf.create_biomarker_extraction_table()\n",
    "studies_df = mf.create_study_extraction_table()\n",
    "\n",
    "# Guardar las tablas vacías como punto de partida\n",
    "studies_df.to_csv('Anexo_4_carpeta_1_resultados/tabla_4.4_studies_extraction.csv', index=False)\n",
    "biomarkers_df.to_csv('Anexo_4_carpeta_1_resultados/tabla_4.5_biomarkers_extraction.csv', index=False)\n",
    "\n",
    "# importar incluidos y excluidos de tiab_screening\n",
    "path = f'../fase_3_tiab_screening/tabla_3.5.1_include.csv'\n",
    "include = pd.read_csv(path, sep=\",\")\n",
    "\n",
    "path = f'../fase_3_tiab_screening/tabla_3.5.2_exclude.csv'\n",
    "exclude = pd.read_csv(path, sep=\",\")\n",
    "\n",
    "# descartar 2 reviews y otro artículo que no es accesible\n",
    "## los incluimos en dataframe temporal y comprobamos\n",
    "c1 = include[\"Item Type\"]!=\"journalArticle\"\n",
    "c2 = include[\"Author\"].str.startswith(\"Telis\")\n",
    "c = c1|c2\n",
    "temp = include.loc[c]\n",
    "\n",
    "## los metemos en exclude\n",
    "print(f\"exclude pre length: {exclude.shape[0]}\")\n",
    "exclude = pd.concat([exclude, temp])\n",
    "print(f\"exclude post length: {exclude.shape[0]}\")\n",
    "\n",
    "## y los eliminamos de include\n",
    "print(f\"include pre length: {include.shape[0]}\")\n",
    "include = include.loc[~c]\n",
    "print(f\"include post length: {include.shape[0]}\")\n",
    "\n",
    "## ordenar include\n",
    "include = include.sort_values(by=[\"Publication Year\", \"Author\"])\n",
    "\n",
    "## importamos stats y lo actualizamos\n",
    "stats = pd.read_csv('../fase_3_tiab_screening/tabla_3.5.3_stats_2.csv', index_col=0)\n",
    "stats"
   ]
  },
  {
   "cell_type": "code",
   "execution_count": null,
   "id": "2a7c59be-b72c-46bc-8df6-dccc51fbaf16",
   "metadata": {},
   "outputs": [],
   "source": [
    "# construir no_papers de deduplicaciones totales como dict (para luego concatenar)\n",
    "temp_df = {\"Excluidos: full-text screening\": [0, 0, len(temp), len(include)], \n",
    "           \"Not papers\": [0, 0, 2, 0],\n",
    "           \"No accesible\": [0, 0, 1, 0]}\n",
    "\n",
    "# pasar a df (y trasponer)\n",
    "temp_df = pd.DataFrame(temp_df).T.astype(int)\n",
    "\n",
    "# renombrar columnas\n",
    "temp_df.columns = [\"PubMed\", \"WOS\", \"Excluidos\", \"Total\"]\n",
    "\n",
    "# check\n",
    "temp_df"
   ]
  },
  {
   "cell_type": "markdown",
   "id": "532b16e6-15c9-4122-aa4f-0168d19056f8",
   "metadata": {},
   "source": [
    "De momento no concatenamos por si excluimos algun texto mas"
   ]
  },
  {
   "cell_type": "code",
   "execution_count": null,
   "id": "e040ba59-e534-4210-962a-1b54569f0101",
   "metadata": {},
   "outputs": [],
   "source": [
    "# crear df de processed\n",
    "reviewed = pd.DataFrame()\n",
    "\n",
    "# exportamos dfs \n",
    "dfs = [include, exclude, reviewed]\n",
    "dfnames = [\"include\", \"exclude\", \"reviewed\"]\n",
    "for i,df in enumerate(dfs):\n",
    "    j = i+1\n",
    "    group=dfnames[i]\n",
    "    path = f'Anexo_4_carpeta_1_resultados/tabla_4.{j}_{group}.csv'\n",
    "    df.to_csv(path)"
   ]
  },
  {
   "cell_type": "markdown",
   "id": "34d52c7b-9f87-417a-a45b-f4c518fb23f6",
   "metadata": {},
   "source": [
    "# 1. minar datos de estudios\n",
    "\n",
    "## 1.1. excluir o registrar datos básicos del estudio\n",
    "\n",
    "### 1. Prakash, 2016"
   ]
  },
  {
   "cell_type": "code",
   "execution_count": null,
   "id": "ca05cfa7-9ac3-4ad4-8b71-2543f1015758",
   "metadata": {
    "scrolled": true
   },
   "outputs": [],
   "source": [
    "# Datos del estudio\n",
    "autor = \"Prakash\"\n",
    "year = 2016\n",
    "\n",
    "# Llamar a la función\n",
    "include, exclude, reviewed, study, studies_df = mf.review(autor, year, include, exclude, reviewed, studies_df)\n",
    "\n",
    "# Al acabar, imprimir siguiente estudio (por orden cronológico y luego autor)\n",
    "autor = include[\"Author\"].iloc[0]\n",
    "apellido = r\"\\b(\\w+),.*\\b\" # regex para detectar solo el apellido del primer autor\n",
    "autor_surname = re.match(apellido, autor).group(1)\n",
    "year = include[\"Publication Year\"].iloc[0]\n",
    "print(f\"\\nSiguiente estudio: {autor_surname}, {year}\")"
   ]
  },
  {
   "cell_type": "markdown",
   "id": "e6e1bc6a-6968-4915-b5f7-0784f3dd09ac",
   "metadata": {},
   "source": [
    "***\n",
    "\n",
    "### 2. Salih, 2016"
   ]
  },
  {
   "cell_type": "code",
   "execution_count": null,
   "id": "509d6689-bbe1-4dd8-a3fa-e1c887d93e13",
   "metadata": {
    "scrolled": true
   },
   "outputs": [],
   "source": [
    "# Extraer datos estudio\n",
    "include, exclude, reviewed, study, studies_df = mf.review(autor, year, include, exclude, reviewed, studies_df)"
   ]
  },
  {
   "cell_type": "code",
   "execution_count": null,
   "id": "b41f0ac9-9e0a-431c-9824-4a3530b3d7d3",
   "metadata": {
    "scrolled": true
   },
   "outputs": [],
   "source": [
    "# Extraer datos de biomarcadores\n",
    "### Almacenar biomarkers en lista y procesar uno por uno\n",
    "bms_list = [\"villin-1\", \"periplakin\", \"evoplakin\", \"complement C3\", \"complement C9\"]\n",
    "\n",
    "### Registrar cada biomarcador identificado con un bucle\n",
    "for bm in bms_list:\n",
    "    print(f\"\\n{bm}\\n\")\n",
    "    mf.add_biomarker(article_id=studies_df[\"article_id\"].iloc[-1], name=bm,\n",
    "                     biomarker_type= \"Proteína\",\n",
    "                     sample_type= \"Orina\",\n",
    "                     technique= \"Espectrometría de masas\",\n",
    "                     disease_stage= input(\"Fase de la enfermedad: \"),\n",
    "                     advantages= \"Fácil medición, no invasivo\",\n",
    "                     limitations= \"Falta de medidas estándar (necesidad de comparar), variabilidad intra e inter individuo, necesidad de otras pruebas (inmunoblotting) para validar\",\n",
    "                     application= \"Monitoreo, respuesta a la terapia\")"
   ]
  },
  {
   "cell_type": "code",
   "execution_count": null,
   "id": "f75a4951-e590-4c82-beea-a73d0eb57a90",
   "metadata": {
    "scrolled": true
   },
   "outputs": [],
   "source": [
    "# Imprimir siguiente estudio (por orden cronológico y luego autor)\n",
    "autor = include[\"Author\"].iloc[0]\n",
    "apellido = r\"\\b(\\w+),.*\\b\" # regex para detectar solo el apellido del primer autor\n",
    "autor_surname = re.match(apellido, autor).group(1)\n",
    "year = include[\"Publication Year\"].iloc[0]\n",
    "print(f\"\\nSiguiente estudio: {autor_surname}, {year}\")"
   ]
  },
  {
   "cell_type": "markdown",
   "id": "c477e16a-afd5-43fc-befa-bdf6ab5db715",
   "metadata": {},
   "source": [
    "***\n",
    "\n",
    "### 3. Diedrich, 2017\n",
    "\n",
    "*Review*"
   ]
  },
  {
   "cell_type": "code",
   "execution_count": null,
   "id": "c0cbd89b-160d-4d03-b51c-32212b47201a",
   "metadata": {},
   "outputs": [],
   "source": [
    "# Llamar a la función\n",
    "include, exclude, reviewed, study, studies_df = mf.review(autor, year, include, exclude, reviewed, studies_df)"
   ]
  },
  {
   "cell_type": "code",
   "execution_count": null,
   "id": "6ac9a7b8-892b-4550-93a1-eaeb756c6d84",
   "metadata": {},
   "outputs": [],
   "source": [
    "# Al acabar, imprimir siguiente estudio (por orden cronológico y luego autor)\n",
    "autor = include[\"Author\"].iloc[0]\n",
    "apellido = r\"\\b(\\w+),.*\\b\" # regex para detectar solo el apellido del primer autor\n",
    "autor_surname = re.match(apellido, autor).group(1)\n",
    "year = include[\"Publication Year\"].iloc[0]\n",
    "print(f\"\\nSiguiente estudio: {autor_surname}, {year}\")"
   ]
  },
  {
   "cell_type": "markdown",
   "id": "ddcff5b7-6656-487b-a11b-7fb99c6c50c8",
   "metadata": {},
   "source": [
    "***\n",
    "\n",
    "### 4. Raptis, 2018"
   ]
  },
  {
   "cell_type": "code",
   "execution_count": null,
   "id": "fc6ebe8c-0b29-4675-929e-4035e07efba7",
   "metadata": {
    "scrolled": true
   },
   "outputs": [],
   "source": [
    "# Extraer datos estudio\n",
    "include, exclude, reviewed, study, studies_df = mf.review(autor, year, include, exclude, reviewed, studies_df)"
   ]
  },
  {
   "cell_type": "code",
   "execution_count": null,
   "id": "96bb506f-a965-4824-ae4e-f639a53192ab",
   "metadata": {
    "scrolled": true
   },
   "outputs": [],
   "source": [
    "# Extraer datos de biomarcadores\n",
    "### Almacenar biomarkers en lista y procesar uno por uno\n",
    "bms_list = [\"endocan\", \"angiopoietin 2\", \"HIF 1a\"]\n",
    "\n",
    "### Registrar cada biomarcador identificado con un bucle\n",
    "for bm in bms_list:\n",
    "    print(f\"\\n{bm}\\n\")\n",
    "    mf.add_biomarker(article_id=studies_df[\"article_id\"].iloc[-1], name=bm,\n",
    "                     biomarker_type= \"Averiguar\",\n",
    "                     sample_type= \"Sangre\",\n",
    "                     technique= \"Metabolomics?\",\n",
    "                     disease_stage= input(\"Fase de la enfermedad: \"),\n",
    "                     advantages= \"Presente incluso en fases iniciales\",\n",
    "                     limitations= \"Pendiente de validación\",\n",
    "                     application= \"Podría servir como marcador de prognosis\")"
   ]
  },
  {
   "cell_type": "code",
   "execution_count": null,
   "id": "433a08ac-e20d-44da-8353-d9b2e3289951",
   "metadata": {},
   "outputs": [],
   "source": [
    "# Al acabar, imprimir siguiente estudio (por orden cronológico y luego autor)\n",
    "autor = include[\"Author\"].iloc[0]\n",
    "apellido = r\"\\b(\\w+),.*\\b\" # regex para detectar solo el apellido del primer autor\n",
    "autor_surname = re.match(apellido, autor).group(1)\n",
    "year = include[\"Publication Year\"].iloc[0]\n",
    "print(f\"\\nSiguiente estudio: {autor_surname}, {year}\")"
   ]
  },
  {
   "cell_type": "markdown",
   "id": "d676d8a6-4479-46c2-92b4-29e7a615b715",
   "metadata": {},
   "source": [
    "***\n",
    "\n",
    "### 5. Rauniyar, 2018\n",
    "\n",
    "Extraído anteriormente, ahora solo extraer info de biomarcadores"
   ]
  },
  {
   "cell_type": "code",
   "execution_count": null,
   "id": "915c6b92-0d39-44bd-9d4e-79d0cbb8f96f",
   "metadata": {
    "scrolled": true
   },
   "outputs": [],
   "source": [
    "# Extraer datos estudio\n",
    "include, exclude, reviewed, study, studies_df = mf.review(autor, year, include, exclude, reviewed, studies_df)"
   ]
  },
  {
   "cell_type": "code",
   "execution_count": null,
   "id": "1bef1de8-8c0e-4c9d-81bd-91c24659bda5",
   "metadata": {},
   "outputs": [],
   "source": [
    "# Extraer datos de biomarcadores\n",
    "### solo incluimos las proteínas que estén tanto en la validación externa como en la interna (por eso hacemos una set intersection)\n",
    "supp_fig3 = {\"DSC2\", \"EGF\", \"KLK1\", \"GAS6\", \"DPEP1\", \"PLAU\", \"XPNPEP2\", \"PIP\", \"ARSF\", \"GPX3\", \"ENDOD1\", \"FTH1\", \"DPP7\", \"GDF15\", \"LYVE1\", \"AHSG\", \"GSN\", \"ABHD14B\", \"IGKC\", \"PI16\", \"LCN1\", \"RNASET2\", \"VCAM1\", \"SOD1\", \"SERPINA6\", \"CTSC\", \"AZGP1\", \"GM2A\", \"CTSD\", \"AMBP\", \"CTSZ\", \"LRG1\", \"SERPINA3\", \"A1BG\", \"MSLN\", \"FTL\", \"PLG\", \"CP\", \"TFF1\", \"SERPIND1\", \"GUCA2A\", \"ORM2\", \"PAPPA2\", \"SPINK5\", \"APOA2\", \"C9\", \"HPX\", \"GC\", \"ALB\", \"AGT\", \"SERPINA1\", \"C3\", \"SERPINC1\", \"TF\", \"APOA1\", \"AFM\", \"CA1\", \"CHGA\", \"SERPINF1\", \"RBP4\", \"APOA4\"}\n",
    "\n",
    "supp_fig4 = {\"LRC15\", \"GAS6\", \"EGF\", \"DPEP1\", \"XPP2\", \"HEMO\", \"A1AT\", \"ALBU\", \"AFAM\", \"ANGT\", \"VTDB\", \"TRFE\", \"APOA2\", \"ANT3\", \"HPT\", \"HEP2\", \"CO3\", \"PEDF\", \"RET4\", \"CAH1\", \"APOA1\", \"APOA4\"}\n",
    "\n",
    "bms_list = list(supp_fig3.intersection(supp_fig4))\n",
    "bms_list"
   ]
  },
  {
   "cell_type": "code",
   "execution_count": null,
   "id": "f542d7e6-80bb-46ec-9a53-3b4a6902e005",
   "metadata": {
    "scrolled": true
   },
   "outputs": [],
   "source": [
    "### Registrar cada biomarcador identificado con un bucle\n",
    "for bm in bms_list:\n",
    "    print(f\"\\n{bm}\\n\")\n",
    "    mf.add_biomarker(article_id=studies_df[\"article_id\"].iloc[-1], name=bm,\n",
    "                     biomarker_type= \"Averiguar\",\n",
    "                     sample_type= \"Orina\",\n",
    "                     technique= \"Proteómica, MS\",\n",
    "                     disease_stage= input(\"Fase de la enfermedad: \"),\n",
    "                     advantages= \"Muestra poco invasiva\",\n",
    "                     limitations= \"Pendiente de validación con cohortes más grandes\",\n",
    "                     application= \"Podría servir como marcador de prognosis\")"
   ]
  },
  {
   "cell_type": "code",
   "execution_count": null,
   "id": "1ad4f904-d668-48d1-b41b-527e477e105f",
   "metadata": {},
   "outputs": [],
   "source": [
    "# Imprimir siguiente estudio (por orden cronológico y luego autor)\n",
    "autor = include[\"Author\"].iloc[0]\n",
    "apellido = r\"\\b(\\w+),.*\\b\" # regex para detectar solo el apellido del primer autor\n",
    "autor_surname = re.match(apellido, autor).group(1)\n",
    "year = include[\"Publication Year\"].iloc[0]\n",
    "print(f\"\\nSiguiente estudio: {autor_surname}, {year}\")"
   ]
  },
  {
   "cell_type": "markdown",
   "id": "3c34122c-16fc-48bf-9f75-a52372dafd62",
   "metadata": {},
   "source": [
    "***\n",
    "\n",
    "### 6. Evenepoel, 2019"
   ]
  },
  {
   "cell_type": "code",
   "execution_count": null,
   "id": "236e5c43-c130-41fc-8a47-09f016366575",
   "metadata": {
    "scrolled": true
   },
   "outputs": [],
   "source": [
    "# Extraer datos estudio\n",
    "include, exclude, reviewed, study, studies_df = mf.review(autor, year, include, exclude, reviewed, studies_df)"
   ]
  },
  {
   "cell_type": "code",
   "execution_count": null,
   "id": "09fff49c-f9a1-47a7-b3fa-1906f22c3be6",
   "metadata": {
    "scrolled": true
   },
   "outputs": [],
   "source": [
    "# Extraer datos de biomarcadores\n",
    "### Almacenar biomarkers en lista y procesar uno por uno\n",
    "bms_list = [\"BMD\", \"BsAP\", \"TRAP5b\", \"sclerostin\"]\n",
    "\n",
    "### Registrar cada biomarcador identificado con un bucle\n",
    "for bm in bms_list:\n",
    "    print(f\"\\n{bm}\\n\")\n",
    "    mf.add_biomarker(article_id=studies_df[\"article_id\"].iloc[-1], name=bm,\n",
    "                     biomarker_type= \"\",\n",
    "                     sample_type= \"\",\n",
    "                     technique= \"\",\n",
    "                     disease_stage= input(\"Fase de la enfermedad: \"),\n",
    "                     advantages= \"\",\n",
    "                     limitations= \"\",\n",
    "                     application= \"\")"
   ]
  },
  {
   "cell_type": "code",
   "execution_count": null,
   "id": "0612d58a-57b1-4508-ac7a-2e715d5f97ae",
   "metadata": {
    "scrolled": true
   },
   "outputs": [],
   "source": [
    "# Imprimir siguiente estudio (por orden cronológico y luego autor)\n",
    "autor = include[\"Author\"].iloc[0]\n",
    "apellido = r\"\\b(\\w+),.*\\b\" # regex para detectar solo el apellido del primer autor\n",
    "autor_surname = re.match(apellido, autor).group(1)\n",
    "year = include[\"Publication Year\"].iloc[0]\n",
    "print(f\"\\nSiguiente estudio: {autor_surname}, {year}\")"
   ]
  },
  {
   "cell_type": "markdown",
   "id": "53eaaab0-0915-46da-9efb-074b175aa8d7",
   "metadata": {},
   "source": [
    "***\n",
    "\n",
    "### 7. Kocyigit, 2019"
   ]
  },
  {
   "cell_type": "code",
   "execution_count": null,
   "id": "31740658-0648-4043-a039-e37b508525de",
   "metadata": {},
   "outputs": [],
   "source": [
    "from importlib import reload\n",
    "reload(mf)"
   ]
  },
  {
   "cell_type": "code",
   "execution_count": null,
   "id": "fe5a7c5d-7ed9-4515-b55a-02956d26033e",
   "metadata": {},
   "outputs": [],
   "source": [
    "# Extraer datos estudio\n",
    "include, exclude, reviewed, study, studies_df = mf.review(autor, year, include, exclude, reviewed, studies_df)"
   ]
  },
  {
   "cell_type": "code",
   "execution_count": null,
   "id": "01be5072-2ce7-4166-be3d-d9a642d9fab7",
   "metadata": {
    "scrolled": true
   },
   "outputs": [],
   "source": [
    "# Extraer datos de biomarcadores\n",
    "### Almacenar biomarkers en lista y procesar uno por uno\n",
    "bms_list = [\"MS criteria (repasar)\"]\n",
    "\n",
    "### Registrar cada biomarcador identificado con un bucle\n",
    "for bm in bms_list:\n",
    "    print(f\"\\n{bm}\\n\")\n",
    "    mf.add_biomarker(article_id=studies_df[\"article_id\"].iloc[-1], name=bm,\n",
    "                     biomarker_type= \"\",\n",
    "                     sample_type= \"\",\n",
    "                     technique= \"\",\n",
    "                     disease_stage= input(\"Fase de la enfermedad: \"),\n",
    "                     advantages= \"\",\n",
    "                     limitations= \"\",\n",
    "                     application= \"\")"
   ]
  },
  {
   "cell_type": "code",
   "execution_count": null,
   "id": "c3f1cbcb-eaf2-4dd3-93af-bcee043f16f0",
   "metadata": {
    "scrolled": true
   },
   "outputs": [],
   "source": [
    "# Imprimir siguiente estudio (por orden cronológico y luego autor)\n",
    "autor = include[\"Author\"].iloc[0]\n",
    "apellido = r\"\\b(\\w+),.*\\b\" # regex para detectar solo el apellido del primer autor\n",
    "autor_surname = re.match(apellido, autor).group(1)\n",
    "year = include[\"Publication Year\"].iloc[0]\n",
    "print(f\"\\nSiguiente estudio: {autor_surname}, {year}\")"
   ]
  },
  {
   "cell_type": "markdown",
   "id": "d89087cc-ed90-4379-8bdc-767c1a4737bd",
   "metadata": {},
   "source": [
    "***\n",
    "\n",
    "### 8. Li, 2020\n",
    "\n",
    "*Review*"
   ]
  },
  {
   "cell_type": "code",
   "execution_count": null,
   "id": "930901f0-194a-4c12-9a11-e960aff71c30",
   "metadata": {
    "scrolled": true
   },
   "outputs": [],
   "source": [
    "# Llamar a la función\n",
    "include, exclude, reviewed, study, studies_df = mf.review(autor, year, include, exclude, reviewed, studies_df)"
   ]
  },
  {
   "cell_type": "code",
   "execution_count": null,
   "id": "64484a15-65b8-4559-98a8-ce6f01c407ff",
   "metadata": {
    "scrolled": true
   },
   "outputs": [],
   "source": [
    "# Imprimir siguiente estudio (por orden cronológico y luego autor)\n",
    "autor = include[\"Author\"].iloc[0]\n",
    "apellido = r\"\\b(\\w+),.*\\b\" # regex para detectar solo el apellido del primer autor\n",
    "autor_surname = re.match(apellido, autor).group(1)\n",
    "year = include[\"Publication Year\"].iloc[0]\n",
    "print(f\"\\nSiguiente estudio: {autor_surname}, {year}\")"
   ]
  },
  {
   "cell_type": "markdown",
   "id": "2d908dbc-f89b-4674-bcea-0a2baf1302f9",
   "metadata": {},
   "source": [
    "***\n",
    "\n",
    "### 9. Zacchia, 2019\n",
    "\n",
    "*Review*"
   ]
  },
  {
   "cell_type": "code",
   "execution_count": null,
   "id": "bee4c197-5182-4117-9841-85f07ba26a38",
   "metadata": {
    "scrolled": true
   },
   "outputs": [],
   "source": [
    "# Llamar a la función\n",
    "include, exclude, reviewed, study, studies_df = mf.review(autor, year, include, exclude, reviewed, studies_df)"
   ]
  },
  {
   "cell_type": "code",
   "execution_count": null,
   "id": "f6c1e14b-aa40-45c1-934d-c9a044776967",
   "metadata": {
    "scrolled": true
   },
   "outputs": [],
   "source": [
    "# Imprimir siguiente estudio (por orden cronológico y luego autor)\n",
    "autor = include[\"Author\"].iloc[0]\n",
    "apellido = r\"\\b(\\w+),.*\\b\" # regex para detectar solo el apellido del primer autor\n",
    "autor_surname = re.match(apellido, autor).group(1)\n",
    "year = include[\"Publication Year\"].iloc[0]\n",
    "print(f\"\\nSiguiente estudio: {autor_surname}, {year}\")"
   ]
  },
  {
   "cell_type": "markdown",
   "id": "730fc99a-8a3c-48f8-960e-20459c518dff",
   "metadata": {},
   "source": [
    "***\n",
    "\n",
    "### 10. Raby, 2021"
   ]
  },
  {
   "cell_type": "code",
   "execution_count": null,
   "id": "68d0d5e0-7641-4dcb-9e42-6ea52f8af3ca",
   "metadata": {
    "scrolled": true
   },
   "outputs": [],
   "source": [
    "# Extraer datos estudio\n",
    "include, exclude, reviewed, study, studies_df = mf.review(autor, year, include, exclude, reviewed, studies_df)"
   ]
  },
  {
   "cell_type": "markdown",
   "id": "4156e23d-fe76-4651-9f3e-c4242bb9351c",
   "metadata": {},
   "source": [
    "Aquí solo incluí los biomarcadores que se confirmaban con inmunoblotting (y cuya cuantificación relativa se mostraba)"
   ]
  },
  {
   "cell_type": "code",
   "execution_count": null,
   "id": "a913c58c-63f4-4265-bbb9-fa9409194d8f",
   "metadata": {
    "scrolled": true
   },
   "outputs": [],
   "source": [
    "# Extraer datos de biomarcadores\n",
    "### Almacenar biomarkers en lista y procesar uno por uno\n",
    "bms_list = ['Fetuin-A', 'HSP90', 'SNX18', 'VIP36', 'AVPR2']\n",
    "\n",
    "### Registrar cada biomarcador identificado con un bucle\n",
    "for bm in bms_list:\n",
    "    print(f\"\\n{bm}\\n\")\n",
    "    mf.add_biomarker(article_id=studies_df[\"article_id\"].iloc[-1], name=bm,\n",
    "                     biomarker_type= \"Averiguar\",\n",
    "                     sample_type= \"Orina\",\n",
    "                     technique= \"Proteómica, MS\",\n",
    "                     disease_stage= input(\"Fase de la enfermedad: \"),\n",
    "                     advantages= \"Muestra poco invasiva\",\n",
    "                     limitations= \"Pendiente de validación con cohortes más grandes\",\n",
    "                     application= input(\"Aplicación: \"))"
   ]
  },
  {
   "cell_type": "code",
   "execution_count": null,
   "id": "71a7a85b-0fb9-44ae-a304-73a95b6ef8ce",
   "metadata": {
    "scrolled": true
   },
   "outputs": [],
   "source": [
    "# Imprimir siguiente estudio (por orden cronológico y luego autor)\n",
    "autor = include[\"Author\"].iloc[0]\n",
    "apellido = r\"\\b(\\w+),.*\\b\" # regex para detectar solo el apellido del primer autor\n",
    "autor_surname = re.match(apellido, autor).group(1)\n",
    "year = include[\"Publication Year\"].iloc[0]\n",
    "print(f\"\\nSiguiente estudio: {autor_surname}, {year}\")"
   ]
  },
  {
   "cell_type": "markdown",
   "id": "2c316c46-4b3d-4806-b1b8-986e60bc94a0",
   "metadata": {},
   "source": [
    "***\n",
    "\n",
    "### 11. Dekker, 2022"
   ]
  },
  {
   "cell_type": "code",
   "execution_count": null,
   "id": "8f0ca3d2-85fa-4b6e-851f-b39dc4d53a66",
   "metadata": {
    "scrolled": true
   },
   "outputs": [],
   "source": [
    "# Extraer datos estudio\n",
    "include, exclude, reviewed, study, studies_df = mf.review(autor, year, include, exclude, reviewed, studies_df)"
   ]
  },
  {
   "cell_type": "code",
   "execution_count": null,
   "id": "f5590845-3519-4583-9831-d909a674decf",
   "metadata": {
    "scrolled": true
   },
   "outputs": [],
   "source": [
    "# Extraer datos de biomarcadores\n",
    "### Almacenar biomarkers en lista y procesar uno por uno\n",
    "bms_list = ['Betaine', 'Phenylacetylglycine', 'Alanine/citrate ratio', 'Myoinositol/citrate ratio', \"Cytrate\"]\n",
    "\n",
    "### Registrar cada biomarcador identificado con un bucle\n",
    "for bm in bms_list:\n",
    "    print(f\"\\n{bm}\\n\")\n",
    "    mf.add_biomarker(article_id=studies_df[\"article_id\"].iloc[-1], name=bm,\n",
    "                     biomarker_type= \"Averiguar\",\n",
    "                     sample_type= \"Orina\",\n",
    "                     technique= \"Proteómica, MS\",\n",
    "                     disease_stage= input(\"Fase de la enfermedad: \"),\n",
    "                     advantages= \"Muestra poco invasiva\",\n",
    "                     limitations= \"Pendiente de validación con cohortes más grandes\",\n",
    "                     application= input(\"Aplicación: \"))"
   ]
  },
  {
   "cell_type": "code",
   "execution_count": null,
   "id": "1db736b1-b404-469e-9421-e0b7b16cf0c6",
   "metadata": {
    "scrolled": true
   },
   "outputs": [],
   "source": [
    "# Imprimir siguiente estudio (por orden cronológico y luego autor)\n",
    "autor = include[\"Author\"].iloc[0]\n",
    "apellido = r\"\\b(\\w+),.*\\b\" # regex para detectar solo el apellido del primer autor\n",
    "autor_surname = re.match(apellido, autor).group(1)\n",
    "year = include[\"Publication Year\"].iloc[0]\n",
    "print(f\"\\nSiguiente estudio: {autor_surname}, {year}\")"
   ]
  },
  {
   "cell_type": "markdown",
   "id": "1645cb6d-b026-4494-a824-abce5be83e92",
   "metadata": {},
   "source": [
    "***\n",
    "\n",
    "### 12. Kim, 2022"
   ]
  },
  {
   "cell_type": "code",
   "execution_count": null,
   "id": "61e93045-5dfd-4a80-9af7-bafa14343bde",
   "metadata": {
    "scrolled": true
   },
   "outputs": [],
   "source": [
    "# Extraer datos estudio\n",
    "include, exclude, reviewed, study, studies_df = mf.review(autor, year, include, exclude, reviewed, studies_df)"
   ]
  },
  {
   "cell_type": "code",
   "execution_count": null,
   "id": "9aa21ccd-fbb3-4db0-9d99-46e4d5f017cb",
   "metadata": {
    "scrolled": true
   },
   "outputs": [],
   "source": [
    "# Extraer datos de biomarcadores\n",
    "### Almacenar biomarkers en lista y procesar uno por uno\n",
    "bms_list = ['Osteopontin']\n",
    "\n",
    "### Registrar cada biomarcador identificado con un bucle\n",
    "for bm in bms_list:\n",
    "    print(f\"\\n{bm}\\n\")\n",
    "    mf.add_biomarker(article_id=studies_df[\"article_id\"].iloc[-1], name=bm,\n",
    "                     biomarker_type= \"Averiguar\",\n",
    "                     sample_type= \"Orina\",\n",
    "                     technique= \"Proteómica, MS\",\n",
    "                     disease_stage= input(\"Fase de la enfermedad: \"),\n",
    "                     advantages= \"Muestra poco invasiva\",\n",
    "                     limitations= \"Pendiente de validación con cohortes más grandes\",\n",
    "                     application= input(\"Aplicación: \"))"
   ]
  },
  {
   "cell_type": "code",
   "execution_count": null,
   "id": "8298fc22-1d38-4fb4-ae38-9910d5da1c2a",
   "metadata": {
    "scrolled": true
   },
   "outputs": [],
   "source": [
    "# Imprimir siguiente estudio (por orden cronológico y luego autor)\n",
    "autor = include[\"Author\"].iloc[0]\n",
    "apellido = r\"\\b(\\w+),.*\\b\" # regex para detectar solo el apellido del primer autor\n",
    "autor_surname = re.match(apellido, autor).group(1)\n",
    "year = include[\"Publication Year\"].iloc[0]\n",
    "print(f\"\\nSiguiente estudio: {autor_surname}, {year}\")"
   ]
  },
  {
   "cell_type": "markdown",
   "id": "e5524186-4666-42aa-9bf8-2f52bfcec01e",
   "metadata": {},
   "source": [
    "***\n",
    "\n",
    "### 13. Kocyigit, 2022"
   ]
  },
  {
   "cell_type": "code",
   "execution_count": null,
   "id": "6989b4e6-e7fa-4c53-afb3-76873484bf9d",
   "metadata": {
    "scrolled": true
   },
   "outputs": [],
   "source": [
    "# Extraer datos estudio\n",
    "include, exclude, reviewed, study, studies_df = mf.review(autor, year, include, exclude, reviewed, studies_df)"
   ]
  },
  {
   "cell_type": "code",
   "execution_count": null,
   "id": "f6c4763e-8cd9-4451-89c2-2107b04cc305",
   "metadata": {},
   "outputs": [],
   "source": [
    "# Extraer datos de biomarcadores\n",
    "### Almacenar biomarkers en lista y procesar uno por uno\n",
    "bms_list = ['Telomere Length', \"TERRA expression levels\"]\n",
    "\n",
    "### Registrar cada biomarcador identificado con un bucle\n",
    "for bm in bms_list:\n",
    "    print(f\"\\n{bm}\\n\")\n",
    "    mf.add_biomarker(article_id=studies_df[\"article_id\"].iloc[-1], name=bm,\n",
    "                     biomarker_type= \"Averiguar\",\n",
    "                     sample_type= \"Orina\",\n",
    "                     technique= \"Proteómica, MS\",\n",
    "                     disease_stage= input(\"Fase de la enfermedad: \"),\n",
    "                     advantages= \"Muestra poco invasiva\",\n",
    "                     limitations= \"Pendiente de validación con cohortes más grandes\",\n",
    "                     application= input(\"Aplicación: \"))"
   ]
  },
  {
   "cell_type": "code",
   "execution_count": null,
   "id": "98384b32-596d-455a-a18a-84340355d3df",
   "metadata": {
    "scrolled": true
   },
   "outputs": [],
   "source": [
    "# Imprimir siguiente estudio (por orden cronológico y luego autor)\n",
    "autor = include[\"Author\"].iloc[0]\n",
    "apellido = r\"\\b(\\w+),.*\\b\" # regex para detectar solo el apellido del primer autor\n",
    "autor_surname = re.match(apellido, autor).group(1)\n",
    "year = include[\"Publication Year\"].iloc[0]\n",
    "print(f\"\\nSiguiente estudio: {autor_surname}, {year}\")"
   ]
  },
  {
   "cell_type": "markdown",
   "id": "8a4bb8e9-1c32-4eb4-835b-51868787b0df",
   "metadata": {},
   "source": [
    "***\n",
    "\n",
    "### 14. Fang, 2023"
   ]
  },
  {
   "cell_type": "code",
   "execution_count": null,
   "id": "67c25737-498b-4f0f-9211-d6a4cd95af99",
   "metadata": {
    "scrolled": true
   },
   "outputs": [],
   "source": [
    "# Extraer datos estudio\n",
    "include, exclude, reviewed, study, studies_df = mf.review(autor, year, include, exclude, reviewed, studies_df)"
   ]
  },
  {
   "cell_type": "code",
   "execution_count": null,
   "id": "ad2267fa-a8ed-4158-bd62-76f2f5e0ebcd",
   "metadata": {
    "scrolled": true
   },
   "outputs": [],
   "source": [
    "# Extraer datos de biomarcadores\n",
    "### Almacenar biomarkers en lista y procesar uno por uno\n",
    "bms_list = ['miR-199a-3p', 'PRKCE', 'TMED5', 'miR-107', 'FGF2', 'RUX1T1']\n",
    "\n",
    "### Registrar cada biomarcador identificado con un bucle\n",
    "for bm in bms_list:\n",
    "    print(f\"\\n{bm}\\n\")\n",
    "    mf.add_biomarker(article_id=studies_df[\"article_id\"].iloc[-1], name=bm,\n",
    "                     biomarker_type= \"Predictivo\",\n",
    "                     sample_type= \"Sangre\",\n",
    "                     technique= \"Mendelian randomization\",\n",
    "                     disease_stage= input(\"Fase de la enfermedad: \"),\n",
    "                     advantages= \"Muestra poco invasiva\",\n",
    "                     limitations= \"Pendiente de validación con cohortes más grandes\",\n",
    "                     application= input(\"Aplicación: \"))"
   ]
  },
  {
   "cell_type": "code",
   "execution_count": null,
   "id": "0df17150-d877-4478-8b79-b902e83aab0e",
   "metadata": {},
   "outputs": [],
   "source": [
    "# Imprimir siguiente estudio (por orden cronológico y luego autor)\n",
    "autor = include[\"Author\"].iloc[0]\n",
    "apellido = r\"\\b(\\w+),.*\\b\" # regex para detectar solo el apellido del primer autor\n",
    "autor_surname = re.match(apellido, autor).group(1)\n",
    "year = include[\"Publication Year\"].iloc[0]\n",
    "print(f\"\\nSiguiente estudio: {autor_surname}, {year}\")"
   ]
  },
  {
   "cell_type": "markdown",
   "id": "be00ec73-1e7d-4bf6-b0dc-c3952d7fb5f9",
   "metadata": {},
   "source": [
    "***\n",
    "\n",
    "### 15. Pana, 2023\n",
    "\n",
    "*Review*"
   ]
  },
  {
   "cell_type": "code",
   "execution_count": null,
   "id": "fee2c3f9-479d-424d-bed1-c53f2d6824e2",
   "metadata": {
    "scrolled": true
   },
   "outputs": [],
   "source": [
    "# Llamar a la función\n",
    "include, exclude, reviewed, study, studies_df = mf.review(autor, year, include, exclude, reviewed, studies_df)"
   ]
  },
  {
   "cell_type": "code",
   "execution_count": null,
   "id": "8012f797-cdbd-4742-b21f-df653da8ae0a",
   "metadata": {},
   "outputs": [],
   "source": [
    "# Imprimir siguiente estudio (por orden cronológico y luego autor)\n",
    "autor = include[\"Author\"].iloc[0]\n",
    "apellido = r\"\\b(Sorić Hosman),.*\\b\" # regex para detectar solo el apellido del primer autor\n",
    "autor_surname = re.match(apellido, autor).group(1)\n",
    "year = include[\"Publication Year\"].iloc[0]\n",
    "print(f\"\\nSiguiente estudio: {autor_surname}, {year}\")"
   ]
  },
  {
   "cell_type": "markdown",
   "id": "3e96e552-1e26-4974-82e0-0503fd2e371b",
   "metadata": {},
   "source": [
    "***\n",
    "\n",
    "### 16. Sorić Hosman, 2023\n",
    "\n",
    "*Review*"
   ]
  },
  {
   "cell_type": "code",
   "execution_count": null,
   "id": "4db0a691-bafb-4d5c-b139-9dd32a6d954e",
   "metadata": {},
   "outputs": [],
   "source": [
    "# Llamar a la función\n",
    "include, exclude, reviewed, study, studies_df = mf.review(autor, year, include, exclude, reviewed, studies_df)"
   ]
  },
  {
   "cell_type": "code",
   "execution_count": null,
   "id": "b739d467-01ed-4b1d-a065-81617b3ebd27",
   "metadata": {},
   "outputs": [],
   "source": [
    "# Imprimir siguiente estudio (por orden cronológico y luego autor)\n",
    "autor = include[\"Author\"].iloc[0]\n",
    "apellido = r\"\\b(\\w+),.*\\b\" # regex para detectar solo el apellido del primer autor\n",
    "autor_surname = re.match(apellido, autor).group(1)\n",
    "year = include[\"Publication Year\"].iloc[0]\n",
    "print(f\"\\nSiguiente estudio: {autor_surname}, {year}\")"
   ]
  },
  {
   "cell_type": "markdown",
   "id": "693bdc96-5cdf-49a4-b23c-13649410aff7",
   "metadata": {},
   "source": [
    "***\n",
    "\n",
    "### 17. Zhang, 2024"
   ]
  },
  {
   "cell_type": "code",
   "execution_count": null,
   "id": "8f57e241-14b6-435a-ad7d-d2a92f378624",
   "metadata": {
    "scrolled": true
   },
   "outputs": [],
   "source": [
    "# Extraer datos estudio\n",
    "include, exclude, reviewed, study, studies_df = mf.review(autor, year, include, exclude, reviewed, studies_df)"
   ]
  },
  {
   "cell_type": "code",
   "execution_count": null,
   "id": "d2d9808d-d722-4018-913f-a0da10b023b6",
   "metadata": {},
   "outputs": [],
   "source": [
    "# Extraer datos de biomarcadores\n",
    "### Almacenar biomarkers en lista y procesar uno por uno\n",
    "bms_list = ['CGT', 'SHBG']\n",
    "\n",
    "### Registrar cada biomarcador identificado con un bucle\n",
    "for bm in bms_list:\n",
    "    print(f\"\\n{bm}\\n\")\n",
    "    mf.add_biomarker(article_id=studies_df[\"article_id\"].iloc[-1], name=bm,\n",
    "                     biomarker_type= \"Predictivo\",\n",
    "                     sample_type= \"Sangre\",\n",
    "                     technique= \"Mendelian randomization\",\n",
    "                     disease_stage= input(\"Fase de la enfermedad: \"),\n",
    "                     advantages= \"Muestra poco invasiva\",\n",
    "                     limitations= \"Pendiente de validación con cohortes más grandes\",\n",
    "                     application= input(\"Aplicación: \"))"
   ]
  },
  {
   "cell_type": "code",
   "execution_count": null,
   "id": "b16a3961-2ea4-43b6-8023-95a0e292ba19",
   "metadata": {},
   "outputs": [],
   "source": [
    "# Imprimir siguiente estudio (por orden cronológico y luego autor)\n",
    "autor = include[\"Author\"].iloc[0]\n",
    "apellido = r\"\\b(\\w+\\s?\\w*),.*\\b\" # regex para detectar solo el apellido del primer autor\n",
    "autor_surname = re.match(apellido, autor).group(1)\n",
    "year = include[\"Publication Year\"].iloc[0]\n",
    "print(f\"\\nSiguiente estudio: {autor_surname}, {year}\")"
   ]
  },
  {
   "cell_type": "markdown",
   "id": "0a719a92-a948-4b95-af1b-b5b964621198",
   "metadata": {},
   "source": [
    "***\n",
    "\n",
    "### 18. van Heugten, 2023"
   ]
  },
  {
   "cell_type": "code",
   "execution_count": null,
   "id": "ac046303-32ee-48fc-98a0-1517d13f5cc6",
   "metadata": {
    "scrolled": true
   },
   "outputs": [],
   "source": [
    "# Extraer datos estudio\n",
    "include, exclude, reviewed, study, studies_df = mf.review(autor, year, include, exclude, reviewed, studies_df)"
   ]
  },
  {
   "cell_type": "code",
   "execution_count": null,
   "id": "1a4c79f7-8465-43c9-b5d6-7fcb2deecce5",
   "metadata": {
    "scrolled": true
   },
   "outputs": [],
   "source": [
    "# Extraer datos de biomarcadores\n",
    "### Almacenar biomarkers en lista y procesar uno por uno\n",
    "bms_list = ['MMP7']\n",
    "\n",
    "### Registrar cada biomarcador identificado con un bucle\n",
    "for bm in bms_list:\n",
    "    print(f\"\\n{bm}\\n\")\n",
    "    mf.add_biomarker(article_id=studies_df[\"article_id\"].iloc[-1], name=bm,\n",
    "                     biomarker_type= \"Asociado a rapido progresador\",\n",
    "                     sample_type= \"Orina (uEV)\",\n",
    "                     technique= \"Mendelian randomization\",\n",
    "                     disease_stage= input(\"Fase de la enfermedad: \"),\n",
    "                     advantages= \"Muestra poco invasiva\",\n",
    "                     limitations= \"Pendiente de validación con cohortes más grandes\",\n",
    "                     application= input(\"Aplicación: \"))"
   ]
  },
  {
   "cell_type": "markdown",
   "id": "7c9b474d-7d8e-46f5-85a8-ceddb77a1cae",
   "metadata": {},
   "source": [
    "***\n",
    "reload data"
   ]
  },
  {
   "cell_type": "code",
   "execution_count": null,
   "id": "a30e804d-6ede-4e80-8fd5-56fb87d2e8ef",
   "metadata": {},
   "outputs": [],
   "source": [
    "print(len(include))\n",
    "print(len(exclude))"
   ]
  },
  {
   "cell_type": "code",
   "execution_count": null,
   "id": "4c9cb534-2dd6-4780-a5c4-6e49c0f614a6",
   "metadata": {
    "scrolled": true
   },
   "outputs": [],
   "source": [
    "# Extraer datos estudio\n",
    "include, exclude, reviewed, study, studies_df = mf.reload()"
   ]
  },
  {
   "cell_type": "code",
   "execution_count": null,
   "id": "5078a670-b496-44ca-b561-b789894ae227",
   "metadata": {},
   "outputs": [],
   "source": [
    "print(len(include))\n",
    "print(len(exclude))\n",
    "print(len(reviewed))"
   ]
  },
  {
   "cell_type": "markdown",
   "id": "4f2386b4-ce5a-4f68-bbd1-3c312492242b",
   "metadata": {},
   "source": [
    "***\n",
    "columnas extraidas"
   ]
  },
  {
   "cell_type": "code",
   "execution_count": null,
   "id": "cc7b978b-ba23-4a2c-8382-d8eb3c6f5d17",
   "metadata": {},
   "outputs": [],
   "source": [
    "cs = list(reviewed.columns[-11:])\n",
    "reviewed[cs]"
   ]
  },
  {
   "cell_type": "markdown",
   "id": "028fa812-d50c-401c-bd0b-9484e4f627f4",
   "metadata": {},
   "source": [
    "***\n",
    "finalmente, en esta parte excluí 6 papers --> los incluyo en dups y luego stats\n",
    "\n",
    "- prakash, 2016: \"Tienen un subgrupo de pacientes ADPKD (o pueden tenerlo), pero no queda clara su aportación\"\n",
    "- diedrich, 2017: \"Reviews\"\n",
    "- li, 2020: ''\n",
    "- pana, 2023: ''\n",
    "- soric hosman, 2023: ''\n",
    "- zacchia, 2020: ''"
   ]
  },
  {
   "cell_type": "code",
   "execution_count": null,
   "id": "2e3d6f02-af28-487b-9cea-95b4ee67dfb2",
   "metadata": {},
   "outputs": [],
   "source": [
    "# construir no_papers de deduplicaciones totales como dict (para luego concatenar)\n",
    "nuevas_filas = pd.DataFrame(\n",
    "    {\"PubMed\": [0,0], \"WOS\": [0,0], \"Excluidos\": [1,5], \"Total\": [0, 0]}, \n",
    "index = [\"Tienen un subgrupo de pacientes ADPKD (o pueden tenerlo), pero no queda clara su aportación\", \"Reviews\"])\n",
    "\n",
    "# concatenar y actualizar valores\n",
    "temp_df = pd.concat([temp_df, nuevas_filas])\n",
    "\n",
    "# total excluidos\n",
    "te = temp_df.iloc[:, -2].sum() - temp_df.iloc[0, -2]\n",
    "temp_df.iloc[0, -2] = te\n",
    "\n",
    "# incluidos restantes\n",
    "temp_df.iloc[0, -1] = len(reviewed)\n",
    "\n",
    "# check\n",
    "temp_df"
   ]
  },
  {
   "cell_type": "code",
   "execution_count": null,
   "id": "7c380507-2482-46b7-98a5-5a526ef75718",
   "metadata": {},
   "outputs": [],
   "source": [
    "# importar stats y concatenarla a ex_mots\n",
    "stats = pd.read_csv('../fase_3_tiab_screening/tabla_3.5.3_stats_2.csv', index_col=0)\n",
    "stats = pd.concat([stats, temp_df])\n",
    "\n",
    "# reemplazar 0s y valores nulos con np.nan\n",
    "stats = stats.replace({0: \"\", 0.0: \"\", np.nan: \"\"})\n",
    "\n",
    "# mover los valores de index (pasos de la review) a 1 col y resetear a index numerico\n",
    "stats=stats.reset_index()\n",
    "\n",
    "# check\n",
    "stats"
   ]
  },
  {
   "cell_type": "code",
   "execution_count": null,
   "id": "39a86fce-d622-4e8b-88e4-4fd2bfe8a237",
   "metadata": {},
   "outputs": [],
   "source": [
    "# exportar\n",
    "stats.to_csv('Anexo_4_carpeta_1_resultados/tabla_4.6_stats.csv', index=False)\n",
    "print(\"Generado 'stats.csv' para screening\")\n",
    "print(f\"Shape: {stats.shape}\")"
   ]
  }
 ],
 "metadata": {
  "kernelspec": {
   "display_name": "Python 3 (ipykernel)",
   "language": "python",
   "name": "python3"
  },
  "language_info": {
   "codemirror_mode": {
    "name": "ipython",
    "version": 3
   },
   "file_extension": ".py",
   "mimetype": "text/x-python",
   "name": "python",
   "nbconvert_exporter": "python",
   "pygments_lexer": "ipython3",
   "version": "3.10.16"
  }
 },
 "nbformat": 4,
 "nbformat_minor": 5
}
