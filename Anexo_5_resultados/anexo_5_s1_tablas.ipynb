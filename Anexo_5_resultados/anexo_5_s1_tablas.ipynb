{
 "cells": [
  {
   "cell_type": "markdown",
   "id": "24e0e308-5177-44fe-bc75-bdb2c7fbfd94",
   "metadata": {},
   "source": [
    "# importar librerías y settings"
   ]
  },
  {
   "cell_type": "code",
   "execution_count": null,
   "id": "f2211caa-8625-42d7-849d-c4a78cde7fa5",
   "metadata": {},
   "outputs": [],
   "source": [
    "# importar librerías\n",
    "import re, os, pandas as pd, numpy as np\n",
    "\n",
    "# Importar UDFs\n",
    "import anexo_5_tables_udfs as tf\n",
    "\n",
    "# comprobar WD\n",
    "print(os.getcwd())\n",
    "\n",
    "# ampliar visualizaciones de pandas\n",
    "pd.set_option('display.max_rows', None)\n",
    "pd.set_option('display.max_columns', None)\n",
    "pd.set_option('display.max_colwidth', None)"
   ]
  },
  {
   "cell_type": "markdown",
   "id": "75da31c7-bff3-43cd-8966-98f01edea268",
   "metadata": {},
   "source": [
    "***\n",
    "### tabla_5"
   ]
  },
  {
   "cell_type": "code",
   "execution_count": null,
   "id": "4879879d-9cbd-40c0-9180-08afcdf0f2e8",
   "metadata": {
    "scrolled": true
   },
   "outputs": [],
   "source": [
    "# importar\n",
    "df_path = \"../Anexo_4_full_text_screening/Anexo_4_carpeta_1_resultados/tabla_4.6_stats.csv\"\n",
    "df = pd.read_csv(df_path, sep=\",\")\n",
    "\n",
    "# castear las últimas columnas a tipo int\n",
    "for col in df.columns[1:]:\n",
    "    df[col] = df[col].astype('Int64')\n",
    "\n",
    "# check\n",
    "df"
   ]
  },
  {
   "cell_type": "markdown",
   "id": "63d4ab13-6e07-4fcf-a77f-ec1c36e0aa82",
   "metadata": {},
   "source": [
    "### preprocesar datos"
   ]
  },
  {
   "cell_type": "code",
   "execution_count": null,
   "id": "8afa1c9c-d667-4879-a2bd-758a81bb492c",
   "metadata": {},
   "outputs": [],
   "source": [
    "# imprimimos los valores de \"index\" para modificarlos y usarlos directamente en el flowchart\n",
    "print(list(df[\"index\"]))\n",
    "\n",
    "# almacenamos valores modificados en una lista\n",
    "texts = ['#1: Términos generales Enfermedades Renales Hereditarias',\n",
    "         '#2: Términos ADPKD',\n",
    "         '#3: Genes asociados', \n",
    "         '#4: Técnicas ómicas y análisis bioinformático',\n",
    "         '#5: Biomarcadores y aplicaciones traslacionales',\n",
    "         'Registros identificados mediante\\nbúsqueda en bases de datos', \n",
    "         '• Estudios de cáncer', \n",
    "         '• Anteriores a 2015',\n",
    "         '• No publicados en inglés',\n",
    "         '• Duplicados o retractados', \n",
    "         '• Publicaciones secundarias',\n",
    "         'Excluidos en revisión de títulos y abstracts',\n",
    "         '• No centrados en ADPKD',\n",
    "         '• Sin análisis específico de ADPKD',\n",
    "         '• Sin biomarcadores relevantes',\n",
    "         '• Sin pacientes humanos',\n",
    "         'Excluidos en revisión de textos completos',\n",
    "         '• Publicaciones secundarias',\n",
    "         '• Texto completo inaccesible',\n",
    "         '• Sin análisis específico de ADPKD',\n",
    "         '• Revisiones sin datos originales']\n",
    "\n",
    "# y se la asignamos a la columna de turno\n",
    "df[\"index\"]=texts\n",
    "\n",
    "# añadir tipos de estudios incluidos para flowchart\n",
    "## importamos el minado de datos de los estudios\n",
    "st_min_path = \"../Anexo_4_full_text_screening/Anexo_4_carpeta_1_resultados/tabla_4.4_studies_extraction.csv\"\n",
    "st_min = pd.read_csv(st_min_path, sep=\";\")\n",
    "\n",
    "# hacemos un df con el value_counts() de los tipos de estudio\n",
    "sd = st_min[\"study_design\"].value_counts()\n",
    "sd = sd.reset_index()\n",
    "sd.columns = [\"index\", \"Total\"]\n",
    "\n",
    "# Añadir como fila 0 el total\n",
    "temp_df = {\"index\": [\"Incluidos: full text review\"], \"Total\": [sum(sd[\"Total\"])]}\n",
    "\n",
    "# pasar a df (y trasponer)\n",
    "temp_df = pd.DataFrame(temp_df)\n",
    "temp_df[\"Total\"] = temp_df[\"Total\"].astype(\"Int64\")\n",
    "\n",
    "# concateno los dos\n",
    "temp_df = pd.concat([temp_df, sd])\n",
    "\n",
    "# renombro filas de sd con 1ª col\n",
    "temp_df.columns = [\"index\", \"Total\"]\n",
    "\n",
    "# concatenar a stats\n",
    "df = pd.concat([df, temp_df], axis=0).reset_index().drop(columns=[\"level_0\"])"
   ]
  },
  {
   "cell_type": "code",
   "execution_count": null,
   "id": "ff27b356-a4c4-4ac7-b721-2fa537e275d1",
   "metadata": {},
   "outputs": [],
   "source": [
    "# check\n",
    "df"
   ]
  },
  {
   "cell_type": "code",
   "execution_count": null,
   "id": "a51c0c88-d823-4949-8bc0-b5e563823f1b",
   "metadata": {},
   "outputs": [],
   "source": [
    "# exportar stats\n",
    "stats_path=\"./Anexo_5_carpeta_1_resultados/tabla_5_stats.csv\"\n",
    "df.to_csv(stats_path, sep=\";\", index=False)"
   ]
  },
  {
   "cell_type": "markdown",
   "id": "e078eee3-dc72-4872-a3c7-3615c7d25c71",
   "metadata": {},
   "source": [
    "***\n",
    "# Tabla 1: construcción de la query de la búsqueda"
   ]
  },
  {
   "cell_type": "code",
   "execution_count": null,
   "id": "1604c8bb-313e-4cb6-b15e-abb04f2b9cb3",
   "metadata": {},
   "outputs": [],
   "source": [
    "# definimos ruta donde están los constructos\n",
    "construct_dir = '../Anexo_1_construir_queries/Anexo_1_carpeta_1_constructos'\n",
    "\n",
    "# creamos un dict. vacío para almacenar resultados\n",
    "construct_dict = {}\n",
    "\n",
    "for file in os.listdir(construct_dir):\n",
    "    filename = os.fsdecode(file)\n",
    "    if filename.endswith(\".txt\"):\n",
    "        \n",
    "        # extraemos nombre del constructo (entre el penúltimo \"_\" y \".txt\")\n",
    "        clave = filename.split('_')[-1].replace('.txt', '')\n",
    "\n",
    "        # leemos contenido del archivo .txt con with open y lo guardamos en la variable valores\n",
    "        with open(os.path.join(construct_dir, filename), \"r\", encoding=\"utf-8\") as f:\n",
    "            valores = f.read()\n",
    "            \n",
    "            # quitar encabezados de los constructos, separadores \"OR\" + texto circundante y \\W innecesarios\n",
    "            to_erase = [r'^#.*(?:\\r?\\n)+', r'\\\"\\[\\w+\\]\\s\\w+\\s\\\"', r\"([\\(\\)\\\"])|(\\[\\w+\\])?\"]\n",
    "            for i,regex in enumerate(to_erase):\n",
    "                if i == 1:\n",
    "                    valores = re.sub(regex, ', ', valores)\n",
    "                else:\n",
    "                    valores = re.sub(regex, '', valores)\n",
    "            \n",
    "            # convertir valores en lista\n",
    "            valores = valores.split(\", \")\n",
    "        \n",
    "        # asignamos clave y valores a construct_dict\n",
    "        construct_dict[clave] = valores\n",
    "\n",
    "# encontrar la longitud máxima de cada lista (para transformar dict en df todos los valores deben tener el mismo largo)\n",
    "max_len = max(len(valores) for valores in construct_dict.values())\n",
    "\n",
    "# rellenar listas cortas con ''\n",
    "for clave in construct_dict:\n",
    "    construct_dict[clave] += [''] * (max_len - len(construct_dict[clave]))\n",
    "\n",
    "# creamos dataframe (que convertiremos en tabla1)\n",
    "tabla1 = pd.DataFrame(construct_dict)\n",
    "\n",
    "# renombrar columnas\n",
    "tabla1 = tabla1.rename(columns={\"biomarcadores\": \"Constructo Biomarcadores\", \n",
    "                                \"diseases\": \"Constructo Enfermedades Renales Hereditarias\",\n",
    "                                \"computacional\": \"Constructo Ómicas y Biología Computacional\",\n",
    "                                \"adpkd\": \"Constructo ADPKD\",\n",
    "                                \"genes\": \"Constructo Genes Asociados\"})\n",
    "\n",
    "# poner primera letra de cada palabra en mayus (las últimas 2 cols no lo necesitan)\n",
    "for col in tabla1.columns[:3]:\n",
    "    tabla1[col] = tabla1[col].str.title()\n",
    "\n",
    "# re-ordenar columnas\n",
    "cols = list(tabla1.columns)\n",
    "cols = ['Constructo Enfermedades Renales Hereditarias', 'Constructo ADPKD', 'Constructo Genes Asociados', \n",
    "        'Constructo Ómicas y Biología Computacional', 'Constructo Biomarcadores']\n",
    "tabla1 = tabla1[cols]\n",
    "\n",
    "# limpiar tabla (sustituir y limpiar valores)\n",
    "## col 0\n",
    "tabla1.iloc[0:5,0] = tabla1.iloc[2:7,0]\n",
    "tabla1.iloc[6:8,0] = \"\"\n",
    "\n",
    "## col 3\n",
    "tabla1.iloc[0:17,3] = tabla1.iloc[2:,3]\n",
    "tabla1.iloc[17:,3] = \"\"\n",
    "\n",
    "## col 4\n",
    "tabla1.iloc[1:6,4] = tabla1.iloc[2:7,4]\n",
    "tabla1.iloc[6,4] = \"\"\n",
    "\n",
    "## eliminar filas vacías\n",
    "tabla1 = tabla1.drop([17, 18])\n",
    "\n",
    "# check\n",
    "tabla1"
   ]
  },
  {
   "cell_type": "code",
   "execution_count": null,
   "id": "b2bc848b-c75f-43d9-831d-f282117183a7",
   "metadata": {},
   "outputs": [],
   "source": [
    "# exportar\n",
    "tabla1_path = \"./Anexo_5_carpeta_1_resultados/tabla_1_constructs.csv\"\n",
    "tabla1.to_csv(tabla1_path, index=False, sep=\";\")"
   ]
  },
  {
   "cell_type": "markdown",
   "id": "e4e81d2b-ff86-440d-b883-dbd8c1b89c77",
   "metadata": {},
   "source": [
    "***\n",
    "# Tabla 2: resultados de la búsqueda"
   ]
  },
  {
   "cell_type": "code",
   "execution_count": null,
   "id": "27e37cda-965d-417a-b367-b977d1ed91ad",
   "metadata": {
    "scrolled": true
   },
   "outputs": [],
   "source": [
    "# importar search_stats\n",
    "search_stats_path = \"./Anexo_5_carpeta_1_resultados/tabla_5_stats.csv\"\n",
    "search_stats = pd.read_csv(search_stats_path, sep=\";\", index_col=False)\n",
    "\n",
    "# quedarnos solo con las primeras 6 filas y eliminar columna \"Excluidos\" (que va en el flowchart)\n",
    "tabla2 = search_stats.iloc[:10,:].drop(columns=[\"Excluidos\"])\n",
    "\n",
    "# castear columnas numéricas a tipo entero\n",
    "for col in tabla2.columns[-3:]:\n",
    "    tabla2[col] = tabla2[col].astype(\"Int64\")\n",
    "\n",
    "# renombrar col. \"index\" a \"Constructo\"\n",
    "tabla2 = tabla2.rename(columns={\"index\": \"Constructo\"})\n",
    "\n",
    "# reasignar último valor de \"Constucto\"\n",
    "new_value = \"Combinación de los constructos #1 a #5\"\n",
    "tabla2.iloc[-1, 0] = new_value\n",
    "\n",
    "# Check\n",
    "tabla2"
   ]
  },
  {
   "cell_type": "code",
   "execution_count": null,
   "id": "6bdc8034-ef6a-4200-aa51-e9a136fe56e2",
   "metadata": {},
   "outputs": [],
   "source": [
    "# exportar\n",
    "tabla2_path = \"./Anexo_5_carpeta_1_resultados/tabla_2_search_results.csv\"\n",
    "tabla2.to_csv(tabla2_path, index=False, sep=\";\")"
   ]
  },
  {
   "cell_type": "markdown",
   "id": "b8d7a14d-0ec2-4af9-9b71-b958113cccf4",
   "metadata": {},
   "source": [
    "***\n",
    "# Tabla 3: resumen de los estudios incluidos"
   ]
  },
  {
   "cell_type": "code",
   "execution_count": null,
   "id": "a7da89cc-eb4a-4766-b6d1-72fc48a246d8",
   "metadata": {},
   "outputs": [],
   "source": [
    "# importar studies extraction\n",
    "st_ex_path = '../Anexo_4_full_text_screening/Anexo_4_carpeta_1_resultados/tabla_4.4_studies_extraction.csv'\n",
    "tabla3 = pd.read_csv(st_ex_path, sep=\";\", index_col=False)\n",
    "\n",
    "# limpiamos article_id (1º autor + año)\n",
    "col = \"article_id\" # la dejamos como 1º apellido del 1º autor y año con udf importada\n",
    "tabla3[col] = tabla3[col].apply(tf.extraer_apellido_y_ano).astype(str) # tb casteamos la columna\n",
    "tabla3[col] = tabla3[col] + \"\\n\" + tabla3[\"journal\"].astype(str) # le sumamos el journal casteado\n",
    "\n",
    "# corregimos valores mal formateados\n",
    "val1 = \"BBA advances\"\n",
    "val2 = \"Journal of the American Society of Nephrology : JASN\"\n",
    "for x in tabla3[col]:\n",
    "    if val1 in x:\n",
    "        tabla3.loc[tabla3[col]==x, col] = x.replace(val1, \"BBA Advances\")\n",
    "    elif x.endswith(val2):\n",
    "        tabla3.loc[tabla3[col]==x, col] = x.replace(val2, \"Journal of the American Society of Nephrology\")    \n",
    "    else:\n",
    "        tabla3.loc[tabla3[col]==x, col] = x.title()\n",
    "\n",
    "# check\n",
    "tabla3[col].value_counts()"
   ]
  },
  {
   "cell_type": "code",
   "execution_count": null,
   "id": "6701af12-4257-423d-91bf-64bba00f17f7",
   "metadata": {},
   "outputs": [],
   "source": [
    "# combinamos n case y n control en una\n",
    "col = \"Sample (Case/Control)\" # la creamos\n",
    "tabla3[col] = tabla3[\"sample_size_adpkd\"] + \" / \" + tabla3[\"sample_size_control\"]\n",
    "\n",
    "# modificamos valores de study_design\n",
    "col = \"study_design\" \n",
    "tabla3[col] = tabla3[col].replace({\"Longitudinales\": \"Longitudinal\", \"Mixtos (clínica + in vitro)\": \"Mixto (clínica + in vitro)\"})\n",
    "\n",
    "# ordenar por año (ascendente)\n",
    "tabla3 = tabla3.sort_values(by=\"year\", ascending=True)\n",
    "\n",
    "# borrar columnas innecesarias\n",
    "cols_2drop = ['author', 'year', 'journal', 'title', 'doi', 'inclusion_criteria', 'biomarker_type', 'translational_apps', \"sample_size_adpkd\", \"sample_size_control\", \"main_findings\", \"limitations\"]\n",
    "tabla3 = tabla3.drop(columns=cols_2drop)\n",
    "\n",
    "# reordenar columnas: transformo a lista e imprimo\n",
    "cols = list(tabla3.columns)\n",
    "cols"
   ]
  },
  {
   "cell_type": "code",
   "execution_count": null,
   "id": "6fcdeaae-a415-44a1-9029-6167082d5cea",
   "metadata": {},
   "outputs": [],
   "source": [
    "# reordeno y reasigno\n",
    "cols = ['article_id', 'study_design', 'Sample (Case/Control)', 'conf_factors', 'omics_technique']\n",
    "tabla3 = tabla3[cols]\n",
    "cols = [\"article_id\",\"omics_technique\"]\n",
    "text = \"procesamiento de imagen\"\n",
    "c = tabla3[\"omics_technique\"].str.contains(text)\n",
    "tabla3.loc[c, cols]"
   ]
  },
  {
   "cell_type": "markdown",
   "id": "c4474f6c-76b5-496d-95b2-99c17910db97",
   "metadata": {},
   "source": [
    "Ahora dejo la columna de ómicas y técnicas en formato agradable a la vista"
   ]
  },
  {
   "cell_type": "code",
   "execution_count": null,
   "id": "00550fb1-feaf-4698-9ca7-8dea6cb4f2fd",
   "metadata": {
    "scrolled": true
   },
   "outputs": [],
   "source": [
    "# manualmente, convierto las listas de omicas y tecnicas en una lista de dicts (para jerarquizar)\n",
    "lista_dicts = [\n",
    "    \n",
    "    # salih 2016\n",
    "    {'proteómica':['inmunoblot', 'MS'], \n",
    "     'análisis de enriquecimiento funcional':[]},\n",
    "    \n",
    "    # raptis 2018\n",
    "    {},\n",
    "    \n",
    "    # rauniyar 2018\n",
    "    {'proteómica':['MS'], \n",
    "     'machine learning':[\"clustering jerárquico\"],\n",
    "     'análisis de enriquecimiento funcional':[]},\n",
    "    \n",
    "    # evenepoel 2019\n",
    "    {},\n",
    "    \n",
    "    # kocyigit 2019\n",
    "    {'genómica':[\"NGS\"],\n",
    "     'procesamiento de imagen':[]},\n",
    "    \n",
    "    # raby 2021\n",
    "    {'análisis de enriquecimiento funcional':[],\n",
    "     'procesamiento de imagen':[],\n",
    "     'proteómica':['MS', 'inmunoblot']},\n",
    "    \n",
    "    # dekker 2022\n",
    "    {'metabolómica':['espectroscopía de RMN'],\n",
    "     'procesamiento de imagen':[],\n",
    "     \"genómica\": [\"NGS\"]},\n",
    "    \n",
    "    # kim 2022\n",
    "    {'transcriptómica':['RNA-seq', 'RT-PCR']},\n",
    "    \n",
    "    # kocyigit 2022\n",
    "    {'transcriptómica':['qRT-PCR']},\n",
    "    \n",
    "    # fang 2023\n",
    "    {'análisis de enriquecimiento funcional':[], 'transcriptómica':['qRT-PCR'], 'análisis de predicción y construcción de redes de interacción':[]},\n",
    "    \n",
    "    # zhang 2024\n",
    "    {'genómica':['GWAS'], 'bioestadística':[\"randomización mendeliana\"]},\n",
    "    \n",
    "    # van heugten 2024\n",
    "    {'proteómica':['inmunoblot', 'MS'], 'análisis de enriquecimiento funcional':[], 'transcriptómica':['snRNA-seq']}\n",
    "]\n",
    "\n",
    "# añado el dict como columna y lo transformo en columna nueva\n",
    "tabla3['datos_omicas'] = lista_dicts\n",
    "tabla3['bullets_omicas'] = tabla3['datos_omicas'].apply(tf.formato_bullets)\n",
    "\n",
    "# checkeo estas 2 cols\n",
    "tabla3.iloc[:,3:]"
   ]
  },
  {
   "cell_type": "code",
   "execution_count": null,
   "id": "dc34b5d1-af77-4ba1-abdd-33ddeac5fc99",
   "metadata": {
    "scrolled": true
   },
   "outputs": [],
   "source": [
    "# check (tabla entera)\n",
    "tabla3"
   ]
  },
  {
   "cell_type": "code",
   "execution_count": null,
   "id": "bfa4e002-21c3-4f98-9784-f12d9196db82",
   "metadata": {},
   "outputs": [],
   "source": [
    "# exportar\n",
    "tabla3_path = \"./Anexo_5_carpeta_1_resultados/tabla_3_articles.csv\"\n",
    "tabla3.to_csv(tabla3_path, index=False, sep=\";\")"
   ]
  },
  {
   "cell_type": "markdown",
   "id": "27a1b473-93ba-4942-b33e-c5fefb903f06",
   "metadata": {},
   "source": [
    "***\n",
    "# Tabla 4: biomarcadores incluidos"
   ]
  },
  {
   "cell_type": "code",
   "execution_count": null,
   "id": "6d13aa4a-041f-49d1-bd90-14cfa58e4e00",
   "metadata": {},
   "outputs": [],
   "source": [
    "# importar studies extraction\n",
    "bm_ex_path = '../Anexo_4_full_text_screening/Anexo_4_carpeta_1_resultados/tabla_4.5_biomarkers_extraction.csv'\n",
    "tabla4 = pd.read_csv(bm_ex_path, sep=\";\", index_col=False)\n",
    "\n",
    "# limpiamos article_id (1º autor + año)\n",
    "col = \"article_id\"\n",
    "tabla4[col] = tabla4[col].apply(tf.extraer_apellido_y_ano)\n",
    "\n",
    "# creamos columna de año (para odernar dataframe)\n",
    "col = \"year\"\n",
    "tabla4[col] = tabla4[\"article_id\"].apply(tf.extraer_ano)\n",
    "\n",
    "# ordenar por año (ascendente)\n",
    "tabla4 = tabla4.sort_values(by=\"year\", ascending=True)\n",
    "\n",
    "# eliminar columnas innecesarias\n",
    "cols_2drop = [\"advantages\", \"year\"]\n",
    "tabla4 = tabla4.drop(columns=cols_2drop)\n",
    "\n",
    "# reordenar columnas\n",
    "cols = list(tabla4.columns)\n",
    "cols"
   ]
  },
  {
   "cell_type": "code",
   "execution_count": null,
   "id": "5c7a0987-5e12-4721-81da-28fdfc1f1f4e",
   "metadata": {},
   "outputs": [],
   "source": [
    "# reordeno y reasigno\n",
    "cols = ['article_id', 'biomarker_name', 'biomarker_type', 'sample_type', 'detection_technique', 'disease_stage', 'clinical_application', 'limitations', 'key_results']\n",
    "tabla4 = tabla4[cols]\n",
    "\n",
    "# normalizar valores de limitations\n",
    "text_2rpl = \" en estudios prospectivos más grandes\"\n",
    "tabla4[\"limitations\"] = tabla4[\"limitations\"].str.replace(text_2rpl, \".\", regex=False)\n",
    "\n",
    "# checkear para reajustar valores\n",
    "col = \"limitations\"\n",
    "vs = tabla4[col].value_counts(dropna=False)\n",
    "\n",
    "for i in range(1,len(vs)):\n",
    "    print(vs.index[i])"
   ]
  },
  {
   "cell_type": "code",
   "execution_count": null,
   "id": "b1eda3bd-874a-4739-9d03-7e58bb9d6fb6",
   "metadata": {},
   "outputs": [],
   "source": [
    "# definimos nuevos valores\n",
    "nu_vals = [\"Implicaciones clínicas aún por definir.\\nPendiente de validación y estandarización.\", \n",
    "           \"Es importante ajustar por factores de confusión.\\nPendiente de validación y estandarización.\", \n",
    "           \"Útil solo para fases avanzadas de ADPKD.\\nPendiente de validación y estandarización.\", \n",
    "           \"Su especificidad está en actual discusión.\\nPendiente de validación y estandarización.\"]\n",
    "\n",
    "# y los cambiamos con un bucle for\n",
    "for i, val in zip(range(1,len(vs)), nu_vals):\n",
    "    c = tabla4[col] == vs.index[i]\n",
    "    tabla4.loc[c, col] = val\n",
    "\n",
    "# y checkeo\n",
    "tabla4[col].value_counts(dropna=False)"
   ]
  },
  {
   "cell_type": "code",
   "execution_count": null,
   "id": "fcb8f4a4-fa62-456c-84e7-21d3cde4dab7",
   "metadata": {
    "scrolled": true
   },
   "outputs": [],
   "source": [
    "# en \"detection_technique\", corrijo errata en \"Inmunoblot\"\n",
    "col = \"detection_technique\"\n",
    "tabla4[col] = tabla4[col].str.replace(\"Inmunoblot\", \"inmunoblot\")\n",
    "\n",
    "# en col \"key_results\", introduzco saltos de línea para hacerla más legible\n",
    "col = \"key_results\"\n",
    "tabla4[col] = tabla4[col].str.replace(\". \", \".\\n\")\n",
    "\n",
    "# en col \"biomarker_type\" sustituyo \"(Vesícula Extracelular)\" por \"VE\"\n",
    "col = \"biomarker_type\"\n",
    "tabla4[col] = tabla4[col].str.replace(\"(Vesícula Extracelular)\", \"VE\")\n",
    "\n",
    "# sustituyo np.nan por \"\"\n",
    "tabla4 = tabla4.replace(np.nan, \"\")"
   ]
  },
  {
   "cell_type": "code",
   "execution_count": null,
   "id": "965a96ca-0de6-4524-aa34-5964174e5550",
   "metadata": {},
   "outputs": [],
   "source": [
    "# Creamos las nuevas columnas fusionadas\n",
    "# Fusión 1\n",
    "tabla4['type_sample_tech'] = tabla4['biomarker_type'] + ' (' + tabla4['sample_type'] + ') / ' + tabla4['detection_technique']\n",
    "\n",
    "# Fusión 2\n",
    "tabla4['app_stage'] = tabla4['clinical_application'] + ' (' + tabla4['disease_stage'] + ')'\n",
    "\n",
    "# check\n",
    "tabla4"
   ]
  },
  {
   "cell_type": "markdown",
   "id": "0034d53d-de80-4848-9a8c-d21f6e7179b7",
   "metadata": {},
   "source": [
    "***\n",
    "recuentos interesantes\n",
    "\n",
    "#### biomarker_type"
   ]
  },
  {
   "cell_type": "code",
   "execution_count": null,
   "id": "fd502111-1eb9-4a5b-84a3-a6ccb38e87e2",
   "metadata": {},
   "outputs": [],
   "source": [
    "col = \"biomarker_type\"\n",
    "x = tabla4[col].value_counts(dropna=False)\n",
    "print(sum(x.values))\n",
    "x"
   ]
  },
  {
   "cell_type": "markdown",
   "id": "1117fa46-3581-48a3-b305-eff72d69030f",
   "metadata": {},
   "source": [
    "#### sample_type"
   ]
  },
  {
   "cell_type": "code",
   "execution_count": null,
   "id": "bd10b611-1ea5-4877-901b-9eca756233d6",
   "metadata": {},
   "outputs": [],
   "source": [
    "col = \"sample_type\"\n",
    "tabla4[col].value_counts(dropna=False)"
   ]
  },
  {
   "cell_type": "markdown",
   "id": "793f85b3-db98-46a8-a555-5a74885fa5ce",
   "metadata": {},
   "source": [
    "#### detection_technique"
   ]
  },
  {
   "cell_type": "code",
   "execution_count": null,
   "id": "92602bc1-d4f0-4612-9baf-a38f3cfdac87",
   "metadata": {},
   "outputs": [],
   "source": [
    "# eliminar columnas que acabamos de fusionar\n",
    "cols_2drop = [\"sample_type\", \"detection_technique\", \"clinical_application\", 'disease_stage']\n",
    "tabla4 = tabla4.drop(columns=cols_2drop)\n",
    "\n",
    "# reordenar columnas\n",
    "cols = list(tabla4.columns)\n",
    "cols"
   ]
  },
  {
   "cell_type": "markdown",
   "id": "65257199-7e91-410e-9703-ea66a9c21945",
   "metadata": {},
   "source": [
    "#### biomarker_name"
   ]
  },
  {
   "cell_type": "code",
   "execution_count": null,
   "id": "21709ce0-cce1-4b9a-9478-4ebabae9c633",
   "metadata": {},
   "outputs": [],
   "source": [
    "col = \"biomarker_name\"\n",
    "tabla4[col].value_counts(dropna=False)\n",
    "\n",
    "# checkear col\n",
    "x=str(list(tabla4[col]))\n",
    "x"
   ]
  },
  {
   "cell_type": "code",
   "execution_count": null,
   "id": "95e6aaf6-e59c-4084-995b-515ac69cf37a",
   "metadata": {},
   "outputs": [],
   "source": [
    "# traducir col al inglés\n",
    "eng_x = ['Complement C3', 'Villin-1', 'Periplakin', 'Envoplakin', 'Complement C9', 'HIF-1a', 'APOA1', 'APOA2', \n",
    "         'APOA4', 'DPEP1', 'EGF', 'Endocan', 'GAS6', 'Angiopoietin-2', 'TRAP5b', 'Sclerostin', 'Bone Mineral Density (BMD)', \n",
    "         'Metabolic Syndrome Criteria', 'BsAP', 'HSP90', 'Fetuina-A', 'SNX18', 'AVPR2', 'VIP36', 'Betaine', 'TERRA expression level',\n",
    "         'Telomere Length', 'Osteopontin', 'myoinositol/citrate ratio', 'alanine/citrate ration', 'Phenylacetyl glycine', 'Citrate',\n",
    "         'TMED5 (mRNA)', 'RUNX1T1 (mRNA)', 'PRKCE (mRNA)', 'miR-199a-3p', 'miR-107', 'FGF2 (mRNA)', 'MMP7']\n",
    "\n",
    "# converir lista a un solo string y corregir formato\n",
    "eng_x = str(eng_x).replace(\"[\", \"\").replace(\"]\", \"\").replace(\"'\", \"\").replace(\"\\n\", \"\")\n",
    "eng_x"
   ]
  },
  {
   "cell_type": "code",
   "execution_count": null,
   "id": "a20f4a86-9fa9-41f3-9fcc-3d816e931943",
   "metadata": {},
   "outputs": [],
   "source": [
    "# reordeno y reasigno\n",
    "cols = [\"article_id\" , 'biomarker_name', \"biomarker_type\", 'type_sample_tech', 'app_stage', 'key_results', 'limitations']\n",
    "tabla4 = tabla4[cols]\n",
    "\n",
    "# normalizar valores de limitations\n",
    "text_2rpl = \" en estudios prospectivos más grandes\"\n",
    "tabla4[\"limitations\"] = tabla4[\"limitations\"].str.replace(text_2rpl, \".\", regex=False)\n",
    "\n",
    "# checkear para reajustar valores\n",
    "col = \"limitations\"\n",
    "vs = tabla4[col].value_counts(dropna=False)\n",
    "\n",
    "for i in range(1,len(vs)):\n",
    "    print(vs.index[i])"
   ]
  },
  {
   "cell_type": "code",
   "execution_count": null,
   "id": "c8ac621c-4b08-4c4a-ad50-7612bf6c7ae5",
   "metadata": {},
   "outputs": [],
   "source": [
    "# convertir biomarker_type a lista\n",
    "col = \"biomarker_type\"\n",
    "tabla4[col] = tabla4[col].str.split()\n",
    "tabla4"
   ]
  },
  {
   "cell_type": "code",
   "execution_count": null,
   "id": "a3aaf8aa-2f41-4eeb-af62-ddc75686b97d",
   "metadata": {},
   "outputs": [],
   "source": [
    "# exportar\n",
    "tabla4_path = \"./Anexo_5_carpeta_1_resultados/tabla_4_biomarkers.csv\"\n",
    "tabla4.to_csv(tabla4_path, index=False, sep=\";\")"
   ]
  }
 ],
 "metadata": {
  "kernelspec": {
   "display_name": "Python 3 (ipykernel)",
   "language": "python",
   "name": "python3"
  },
  "language_info": {
   "codemirror_mode": {
    "name": "ipython",
    "version": 3
   },
   "file_extension": ".py",
   "mimetype": "text/x-python",
   "name": "python",
   "nbconvert_exporter": "python",
   "pygments_lexer": "ipython3",
   "version": "3.10.16"
  }
 },
 "nbformat": 4,
 "nbformat_minor": 5
}
