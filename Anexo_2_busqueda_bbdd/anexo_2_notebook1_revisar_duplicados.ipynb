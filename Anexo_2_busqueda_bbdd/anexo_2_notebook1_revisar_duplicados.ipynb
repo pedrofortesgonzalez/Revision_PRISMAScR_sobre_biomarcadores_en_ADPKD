{
 "cells": [
  {
   "cell_type": "markdown",
   "id": "0232603b-edd8-4819-9be2-1cc2b936f8d5",
   "metadata": {},
   "source": [
    "# 1. set WD"
   ]
  },
  {
   "cell_type": "code",
   "execution_count": null,
   "id": "293ba39d-4a5d-465f-82f5-3f249a964d86",
   "metadata": {},
   "outputs": [],
   "source": [
    "# importar librerías\n",
    "import os, sys, pandas as pd\n",
    "\n",
    "# comprobar WD\n",
    "print(os.getcwd())\n",
    "\n",
    "# ampliar visualizaciones de pandas\n",
    "pd.set_option('display.max_rows', None)       # show all rows\n",
    "pd.set_option('display.max_columns', None)    # show all cols\n",
    "pd.set_option('display.width', None)          # not restricting width\n",
    "pd.set_option('display.max_colwidth', None)   # show all content in every cell"
   ]
  },
  {
   "cell_type": "markdown",
   "id": "73b53e8c-1f0e-4e2c-9ebe-57f32ec0b310",
   "metadata": {},
   "source": [
    "# 2.estadísticas de búsqueda"
   ]
  },
  {
   "cell_type": "code",
   "execution_count": null,
   "id": "78c4afc0-d7e8-4ff2-b356-bd678edb8a20",
   "metadata": {},
   "outputs": [],
   "source": [
    "# importar PubMed Search\n",
    "pm_df_path = \"Anexo_2_carpeta_1_historiales_busqueda/tabla_2.1_PubMed_Search_History.csv\"\n",
    "pm_df = pd.read_csv(pm_df_path, sep=\";\")\n",
    "\n",
    "# eliminar cols no útiles\n",
    "cols = [\"Search Details\", \"Time\"]\n",
    "pm_df = pm_df.drop(columns=cols)\n",
    "\n",
    "# check\n",
    "pm_df.head()"
   ]
  },
  {
   "cell_type": "code",
   "execution_count": null,
   "id": "9d263d07-5e0f-45a0-9352-a74e8201c7c4",
   "metadata": {},
   "outputs": [],
   "source": [
    "# importar WOS search\n",
    "wos_df_path = \"Anexo_2_carpeta_1_historiales_busqueda/tabla_2.2_WOS_Search_History.csv\"\n",
    "wos_df = pd.read_csv(wos_df_path, sep=\";\")\n",
    "\n",
    "# eliminar cols no útiles\n",
    "cols = [\"Entitlements\", \"Database\"]\n",
    "wos_df = wos_df.drop(columns=cols)\n",
    "\n",
    "# check\n",
    "wos_df.head()"
   ]
  },
  {
   "cell_type": "markdown",
   "id": "9ce4082f-6726-455e-8880-89cedb29b75b",
   "metadata": {},
   "source": [
    "## construir tabla de estadísticas de búsqueda"
   ]
  },
  {
   "cell_type": "code",
   "execution_count": null,
   "id": "bc1be3df-6ede-453c-9292-eeb018094337",
   "metadata": {},
   "outputs": [],
   "source": [
    "# construir tabla de stats como dict\n",
    "search_stats = {\n",
    "    \"Database\": [\"PubMed\", \"PubMed Exc.\", \"WOS\", \"WOS Exc.\", \"Excluidos\"],\n",
    "    \"#1: términos generales\": [pm_df.iloc[0,2], 0, wos_df.iloc[0,1], 0, 0],\n",
    "    \"#2: patologías\": [pm_df.iloc[1,2], 0, wos_df.iloc[1,1], 0, 0],\n",
    "    \"#3: genes\": [pm_df.iloc[2,2], 0, wos_df.iloc[2,1], 0, 0],\n",
    "    \"#4: ómicas y biología computacional\": [pm_df.iloc[3,2], 0, wos_df.iloc[3,1], 0, 0], \n",
    "    \"#5: biomarcadores\": [pm_df.iloc[4,2], 0, wos_df.iloc[4,1], 0, 0], \n",
    "    \n",
    "    \"Registros_identificados\": [pm_df.iloc[5,2], 0, wos_df.iloc[5,1], 0, 0],\n",
    "    \"Exclusion_cancer\": [pm_df.iloc[6,2], 0, wos_df.iloc[6,1], 0, 0],\n",
    "    \"Exclusion_last_10y\": [pm_df.iloc[7,2], 0, wos_df.iloc[7,1], 0, 0],\n",
    "    \"Exclusion_ingles\": [pm_df.iloc[8,2], 0, wos_df.iloc[8,1], 0, 0] \n",
    "}\n",
    "\n",
    "# pasar a df\n",
    "search_stats = pd.DataFrame(search_stats).T\n",
    "\n",
    "# renombrar columnas con valores de la primera fila (menos última col) y dropearla\n",
    "search_stats.columns = [\"PubMed\", \"PubMed Exc.\", \"WOS\", \"WOS Exc.\", \"Excluidos\"]\n",
    "search_stats = search_stats.iloc[1:]\n",
    "\n",
    "# castear cols numericas\n",
    "for col in search_stats.columns[1:]:\n",
    "    search_stats[col] = search_stats[col].astype(int)\n",
    "\n",
    "# calcular valores de excluidos\n",
    "## excluidos pubmed\n",
    "search_stats.iloc[6, 1] = search_stats.iloc[5, 0] - search_stats.iloc[6, 0]\n",
    "search_stats.iloc[7, 1] = search_stats.iloc[6, 0] - search_stats.iloc[7, 0]\n",
    "search_stats.iloc[8, 1] = search_stats.iloc[7, 0] - search_stats.iloc[8, 0]\n",
    "\n",
    "## excluidos wos\n",
    "search_stats.iloc[6, 3] = search_stats.iloc[5, 2] - search_stats.iloc[6, 2]\n",
    "search_stats.iloc[7, 3] = search_stats.iloc[6, 2] - search_stats.iloc[7, 2]\n",
    "search_stats.iloc[8, 3] = search_stats.iloc[7, 2] - search_stats.iloc[8, 2]\n",
    "\n",
    "## excluidos total\n",
    "search_stats.iloc[6, 4] = search_stats.iloc[6, 1] + search_stats.iloc[6, 3]\n",
    "search_stats.iloc[7, 4] = search_stats.iloc[7, 1] + search_stats.iloc[7, 3]\n",
    "search_stats.iloc[8, 4] = search_stats.iloc[8, 1] + search_stats.iloc[8, 3]\n",
    "\n",
    "# trasponoer y checkear\n",
    "#search_stats = search_stats.T\n",
    "search_stats"
   ]
  },
  {
   "cell_type": "markdown",
   "id": "9373a2c6-4dca-472a-af97-09ff58ccc196",
   "metadata": {},
   "source": [
    "Los excluidos están bien, ahora sigo con el tratamiento"
   ]
  },
  {
   "cell_type": "code",
   "execution_count": null,
   "id": "cc3d12c2-6eb0-4d64-aa16-b66409ddc00c",
   "metadata": {},
   "outputs": [],
   "source": [
    "# eliminar excluidos de cada BBDD\n",
    "search_stats = search_stats.drop(columns=[\"PubMed Exc.\", \"WOS Exc.\"])\n",
    "\n",
    "# sumar incluidos de pubmed y wos\n",
    "search_stats[\"Total\"] = search_stats[\"PubMed\"]+search_stats[\"WOS\"]\n",
    "\n",
    "# check\n",
    "search_stats"
   ]
  },
  {
   "cell_type": "markdown",
   "id": "f19626b1-57f2-417f-b3df-fd17de621f88",
   "metadata": {},
   "source": [
    "# 3. deduplicación"
   ]
  },
  {
   "cell_type": "code",
   "execution_count": null,
   "id": "316929f7-2454-4c32-86ee-b5314bbc733d",
   "metadata": {},
   "outputs": [],
   "source": [
    "# cargar como dataframe\n",
    "path1 = \"./Anexo_2_carpeta_1_historiales_busqueda/tabla_2.3_deduplication.csv\"\n",
    "df = pd.read_csv(path1, sep=\",\")\n",
    "print(\"\\nlongitud pre-dedup: \", df.shape)\n",
    "\n",
    "# localizar posibles duplicados con \"DOI\"\n",
    "df = df.drop_duplicates(subset=\"DOI\")\n",
    "print(\"\\nlongitud post-dedup: \", df.shape)"
   ]
  },
  {
   "cell_type": "code",
   "execution_count": null,
   "id": "451f72f6-8dac-4305-80c8-fcb741d665f8",
   "metadata": {},
   "outputs": [],
   "source": [
    "# Exportar lista de artículos no duplicados para revisión manual (si es necesaria) o recarga\n",
    "df.to_csv('../Anexo_3_tiab_screening/Anexo_3_carpeta_1_inputs/tabla_3.0_articulos_pre_revision.csv', index=False)"
   ]
  },
  {
   "cell_type": "markdown",
   "id": "bf69c20e-718e-47f0-aecb-a228f3b3cace",
   "metadata": {},
   "source": [
    "## Ahora añado los nºs a la tabla de estadística"
   ]
  },
  {
   "cell_type": "raw",
   "id": "80cfe5f2-6100-438d-9504-b16424637915",
   "metadata": {},
   "source": [
    "search_stats"
   ]
  },
  {
   "cell_type": "code",
   "execution_count": null,
   "id": "52c09ccb-53f7-44ec-9ed3-72b76f0ed7f8",
   "metadata": {},
   "outputs": [],
   "source": [
    "# construir tabla de deduplicaciones totales como dict (para luego concatenar)\n",
    "dups = search_stats.iloc[-1,-1] - len(df)\n",
    "dups_df = {\"Duplicados y retractados\": [0, 0, int(dups), int(len(df))]}\n",
    "\n",
    "# pasar a df (y trasponer)\n",
    "dups_df = pd.DataFrame(dups_df).T.astype(int)\n",
    "\n",
    "# renombrar columnas\n",
    "dups_df.columns = [\"PubMed\", \"WOS\", \"Excluidos\", \"Total\"]\n",
    "\n",
    "# concatenar a search_stats\n",
    "search_stats = pd.concat([search_stats, dups_df], axis=0)\n",
    "search_stats"
   ]
  },
  {
   "cell_type": "markdown",
   "id": "71f5b307-45f2-4980-a921-dbcc2b8ea166",
   "metadata": {},
   "source": [
    "Exporto los resultados"
   ]
  },
  {
   "cell_type": "code",
   "execution_count": null,
   "id": "71c3b5a3-51b5-43cc-a06c-2b29403c385a",
   "metadata": {},
   "outputs": [],
   "source": [
    "# Exportar lista de artículos CON abstract para revisión manual (si es necesaria) o recarga\n",
    "search_stats.to_csv('./Anexo_2_carpeta_2_resultados/tabla_2.4_search_stats.csv', index=True)"
   ]
  }
 ],
 "metadata": {
  "kernelspec": {
   "display_name": "Python 3 (ipykernel)",
   "language": "python",
   "name": "python3"
  },
  "language_info": {
   "codemirror_mode": {
    "name": "ipython",
    "version": 3
   },
   "file_extension": ".py",
   "mimetype": "text/x-python",
   "name": "python",
   "nbconvert_exporter": "python",
   "pygments_lexer": "ipython3",
   "version": "3.10.16"
  }
 },
 "nbformat": 4,
 "nbformat_minor": 5
}
