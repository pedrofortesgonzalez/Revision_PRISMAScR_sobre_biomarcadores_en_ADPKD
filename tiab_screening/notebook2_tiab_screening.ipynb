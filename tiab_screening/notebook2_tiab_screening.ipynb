{
 "cells": [
  {
   "cell_type": "markdown",
   "metadata": {},
   "source": [
    "# Screening de Títulos y Abstracts (TIAB)\n",
    "\n",
    "Este notebook implementa el proceso de screening de títulos y abstracts siguiendo las guías PRISMA-ScR.\n",
    "\n",
    "## Objetivos:\n",
    "- Aplicar criterios de inclusión/exclusión a títulos y abstracts\n",
    "- Realizar screening independiente por múltiples revisores\n",
    "- Calcular concordancia entre revisores\n",
    "- Resolver discrepancias\n",
    "- Generar lista final para screening de texto completo"
   ]
  },
  {
   "cell_type": "code",
   "execution_count": null,
   "metadata": {},
   "outputs": [],
   "source": [
    "import pandas as pd\n",
    "import numpy as np\n",
    "from sklearn.metrics import cohen_kappa_score\n",
    "from udfs_2 import *\n",
    "\n",
    "# Configuración inicial\n",
    "pd.set_option('display.max_columns', None)\n",
    "pd.set_option('display.width', None)\n",
    "pd.set_option('display.max_colwidth', None)"
   ]
  },
  {
   "cell_type": "markdown",
   "metadata": {},
   "source": [
    "## 1. Carga de Datos con Abstracts"
   ]
  },
  {
   "cell_type": "code",
   "execution_count": null,
   "metadata": {},
   "outputs": [],
   "source": [
    "# Cargar datos con abstracts completos\n",
    "# df = pd.read_csv('resultados/records_with_abstracts.csv')\n",
    "# print(f\"Total de registros para screening: {len(df)}\")"
   ]
  },
  {
   "cell_type": "markdown",
   "metadata": {},
   "source": [
    "## 2. Definición de Criterios de Inclusión/Exclusión"
   ]
  },
  {
   "cell_type": "code",
   "execution_count": null,
   "metadata": {},
   "outputs": [],
   "source": [
    "# Criterios de inclusión\n",
    "inclusion_criteria = {\n",
    "    'population': 'ADPKD patients',\n",
    "    'intervention': 'biomarkers',\n",
    "    'study_types': ['observational', 'clinical trial', 'cohort', 'case-control'],\n",
    "    'languages': ['english', 'spanish', 'portuguese']\n",
    "}\n",
    "\n",
    "# Criterios de exclusión\n",
    "exclusion_criteria = {\n",
    "    'study_types': ['review', 'editorial', 'letter', 'case report'],\n",
    "    'populations': ['animals only', 'in vitro only'],\n",
    "    'other': ['no biomarker data', 'no ADPKD focus']\n",
    "}\n",
    "\n",
    "print(\"Criterios de inclusión/exclusión definidos\")"
   ]
  },
  {
   "cell_type": "markdown",
   "metadata": {},
   "source": [
    "## 3. Screening Automatizado (Pre-screening)"
   ]
  },
  {
   "cell_type": "code",
   "execution_count": null,
   "metadata": {},
   "outputs": [],
   "source": [
    "# Aplicar pre-screening automatizado basado en palabras clave\n",
    "# prescreened_df = automated_prescreening(df, inclusion_criteria, exclusion_criteria)\n",
    "# print(f\"Registros después de pre-screening: {len(prescreened_df)}\")\n",
    "# print(f\"Registros excluidos en pre-screening: {len(df) - len(prescreened_df)}\")"
   ]
  },
  {
   "cell_type": "markdown",
   "metadata": {},
   "source": [
    "## 4. Screening Manual por Revisores"
   ]
  },
  {
   "cell_type": "code",
   "execution_count": null,
   "metadata": {},
   "outputs": [],
   "source": [
    "# Preparar datos para screening manual\n",
    "# screening_data = prepare_screening_data(prescreened_df)\n",
    "# print(f\"Datos preparados para {len(screening_data)} revisores\")"
   ]
  },
  {
   "cell_type": "markdown",
   "metadata": {},
   "source": [
    "## 5. Análisis de Concordancia"
   ]
  },
  {
   "cell_type": "code",
   "execution_count": null,
   "metadata": {},
   "outputs": [],
   "source": [
    "# Cargar resultados de screening de múltiples revisores\n",
    "# reviewer1_results = load_screening_results('reviewer1_screening.csv')\n",
    "# reviewer2_results = load_screening_results('reviewer2_screening.csv')\n",
    "\n",
    "# Calcular concordancia entre revisores\n",
    "# kappa = calculate_inter_rater_agreement(reviewer1_results, reviewer2_results)\n",
    "# print(f\"Coeficiente Kappa de Cohen: {kappa:.3f}\")"
   ]
  },
  {
   "cell_type": "markdown",
   "metadata": {},
   "source": [
    "## 6. Resolución de Discrepancias"
   ]
  },
  {
   "cell_type": "code",
   "execution_count": null,
   "metadata": {},
   "outputs": [],
   "source": [
    "# Identificar discrepancias entre revisores\n",
    "# discrepancies = identify_discrepancies(reviewer1_results, reviewer2_results)\n",
    "# print(f\"Discrepancias encontradas: {len(discrepancies)}\")\n",
    "\n",
    "# Resolver discrepancias (requiere revisión manual o tercer revisor)\n",
    "# resolved_discrepancies = resolve_discrepancies(discrepancies)\n",
    "# print(f\"Discrepancias resueltas: {len(resolved_discrepancies)}\")"
   ]
  },
  {
   "cell_type": "markdown",
   "metadata": {},
   "source": [
    "## 7. Resultados Finales del TIAB Screening"
   ]
  },
  {
   "cell_type": "code",
   "execution_count": null,
   "metadata": {},
   "outputs": [],
   "source": [
    "# Combinar resultados finales\n",
    "# final_tiab_results = combine_screening_results(reviewer1_results, reviewer2_results, resolved_discrepancies)\n",
    "# included_records = final_tiab_results[final_tiab_results['decision'] == 'include']\n",
    "\n",
    "# print(f\"Registros incluidos para full-text screening: {len(included_records)}\")\n",
    "# print(f\"Registros excluidos en TIAB screening: {len(final_tiab_results) - len(included_records)}\")"
   ]
  },
  {
   "cell_type": "markdown",
   "metadata": {},
   "source": [
    "## 8. Guardado de Resultados"
   ]
  },
  {
   "cell_type": "code",
   "execution_count": null,
   "metadata": {},
   "outputs": [],
   "source": [
    "# Guardar resultados del TIAB screening\n",
    "# included_records.to_csv('resultados/tiab_included_records.csv', index=False)\n",
    "# final_tiab_results.to_csv('resultados/tiab_all_decisions.csv', index=False)\n",
    "\n",
    "# print(\"Resultados guardados:\")\n",
    "# print(\"  - resultados/tiab_included_records.csv\")\n",
    "# print(\"  - resultados/tiab_all_decisions.csv\")"
   ]
  },
  {
   "cell_type": "markdown",
   "metadata": {},
   "source": [
    "## 9. Reporte de TIAB Screening"
   ]
  },
  {
   "cell_type": "code",
   "execution_count": null,
   "metadata": {},
   "outputs": [],
   "source": [
    "# Generar reporte detallado del proceso de screening\n",
    "# screening_report = generate_tiab_screening_report(df, prescreened_df, final_tiab_results, kappa)\n",
    "# print(screening_report)"
   ]
  }
 ],
 "metadata": {
  "kernelspec": {
   "display_name": "Python 3",
   "language": "python",
   "name": "python3"
  },
  "language_info": {
   "codemirror_mode": {
    "name": "ipython",
    "version": 3
   },
   "file_extension": ".py",
   "mimetype": "text/x-python",
   "name": "python",
   "nbconvert_exporter": "python",
   "pygments_lexer": "ipython3",
   "version": "3.8.5"
  }
 },
 "nbformat": 4,
 "nbformat_minor": 4
}