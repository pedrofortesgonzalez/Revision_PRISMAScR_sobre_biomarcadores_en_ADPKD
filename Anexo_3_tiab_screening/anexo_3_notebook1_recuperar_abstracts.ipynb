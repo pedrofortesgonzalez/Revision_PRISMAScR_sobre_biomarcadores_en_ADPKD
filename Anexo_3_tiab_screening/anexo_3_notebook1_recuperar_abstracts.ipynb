{
 "cells": [
  {
   "cell_type": "code",
   "execution_count": null,
   "id": "7ff72ae0-d709-47f4-b7b7-fa8bf3c86ad7",
   "metadata": {},
   "outputs": [],
   "source": [
    "import os, time, pandas as pd, time, re     # importar funciones externas\n",
    "from Bio import Entrez, Medline\n",
    "from tqdm import tqdm\n",
    "from semanticscholar import SemanticScholar\n",
    "import anexo_3_udfs as mf                   # importar funciones propias (UDFS)\n",
    "\n",
    "print(os.getcwd())                          # comprobar WD\n",
    "mf.viz()                                    # ampliar visualizaciones de pandas"
   ]
  },
  {
   "cell_type": "markdown",
   "id": "2004ed55-7719-4306-9665-d90f4f196556",
   "metadata": {},
   "source": [
    "# 1.cargar y de-duplicado"
   ]
  },
  {
   "cell_type": "code",
   "execution_count": null,
   "id": "148f1608-8454-440c-962d-d37b55d3f9f5",
   "metadata": {},
   "outputs": [],
   "source": [
    "# Cargar CSV de-duplicado\n",
    "path1 = \"./Anexo_3_carpeta_1_inputs/tabla_3.0_articulos_pre_revision.csv\"\n",
    "df = pd.read_csv(path1)\n",
    "print(df.shape)\n",
    "print(f\"\\n{df.columns}\")"
   ]
  },
  {
   "cell_type": "markdown",
   "id": "1dd5c650-35be-4eba-ba9a-0c73bb0f97f9",
   "metadata": {},
   "source": [
    "Añadir numero de duplicados a stats"
   ]
  },
  {
   "cell_type": "markdown",
   "id": "3867dc65-e685-467e-9b42-21df8b9cc68a",
   "metadata": {},
   "source": [
    "### config para screening asistido"
   ]
  },
  {
   "cell_type": "code",
   "execution_count": null,
   "id": "8f55b6c7-1515-4b4d-a727-6967f4b7d044",
   "metadata": {
    "scrolled": true
   },
   "outputs": [],
   "source": [
    "# comprobar cuántos artículos con abstract tenemos\n",
    "col = \"Abstract Note\"\n",
    "nonan_values = df[col].value_counts(dropna=True)\n",
    "nan_values = df[col].value_counts(dropna=False).iloc[0]\n",
    "\n",
    "print(f\"\\nNo. papers: {len(df)}\")\n",
    "print(f\"Papers w/ abstract in Zotero: {len(nonan_values)}\")\n",
    "print(f\"Papers w/out abstract in Zotero: {nan_values}\")"
   ]
  },
  {
   "cell_type": "code",
   "execution_count": null,
   "id": "966d8b94-00c8-490e-b75e-190953400388",
   "metadata": {},
   "outputs": [],
   "source": [
    "# Preprocesamiento básico\n",
    "df['combined_text'] = df['Title'].fillna('') + ' ' + df['Abstract Note'].fillna('')\n",
    "df['combined_text'] = df['combined_text'].str.lower()\n",
    "\n",
    "# Inicializar columna de decisiones\n",
    "df['decision'] = None  # Posibles valores: 'include', 'exclude', None (pendiente)\n",
    "\n",
    "# Modificación del preprocesamiento para manejar abstracts faltantes\n",
    "df['Title'] = df['Title'].fillna('')\n",
    "df['Abstract Note'] = df['Abstract Note'].fillna('')\n",
    "df['has_abstract'] = ~df['Abstract Note'].str.strip().eq('')\n",
    "\n",
    "# Crear una bandera para identificar registros sin abstract\n",
    "print(f\"Artículos sin abstract: {sum(~df['has_abstract'])} de {len(df)}\")"
   ]
  },
  {
   "cell_type": "markdown",
   "id": "09cdd18c-722a-4b97-8223-cdb3f40683c2",
   "metadata": {},
   "source": [
    "# 2.recuperación automática de abstracts faltantes"
   ]
  },
  {
   "cell_type": "markdown",
   "id": "9afe03b3-12b3-416b-b43d-1be991670887",
   "metadata": {},
   "source": [
    "## 2.1.recuperación automática de abstracts"
   ]
  },
  {
   "cell_type": "code",
   "execution_count": null,
   "id": "2d629c40-7ef1-4892-a459-28fdbfc0ffb2",
   "metadata": {
    "scrolled": true
   },
   "outputs": [],
   "source": [
    "# Configuración para PubMed\n",
    "mail = \"pedro.fortes.gonzalez@sergas.es\"\n",
    "Entrez.email = mail\n",
    "\n",
    "# Recuperar abstracts faltantes usando DOI\n",
    "abstracts_recovered = 0\n",
    "articles_without_doi = 0\n",
    "\n",
    "# Crear una copia de los índices de artículos sin abstract\n",
    "indices_without_abstract = df[~df['has_abstract']].index.tolist()\n",
    "\n",
    "# Usar tqdm para mostrar progreso\n",
    "for idx in tqdm(indices_without_abstract, desc=\"Recuperando abstracts\"):\n",
    "    doi = df.loc[idx, 'DOI']\n",
    "    if pd.notnull(doi) and doi.strip() != '':\n",
    "        abstract = mf.fetch_abstract_by_doi(doi, mail)\n",
    "        if abstract and len(abstract.strip()) > 0:\n",
    "            #df.at[idx, 'abstract'] = abstract\n",
    "            df.at[idx, 'Abstract Note'] = abstract  # Actualizar también la columna original\n",
    "            df.at[idx, 'has_abstract'] = True\n",
    "            abstracts_recovered += 1\n",
    "            time.sleep(0.5)  # Respetar límites de API\n",
    "    else:\n",
    "        articles_without_doi += 1\n",
    "\n",
    "print(f\"Abstracts recuperados: {abstracts_recovered}\")\n",
    "print(f\"Artículos sin DOI: {articles_without_doi}\")\n",
    "print(f\"Artículos que siguen sin abstract: {sum(~df['has_abstract'])}\")\n",
    "\n",
    "# exportar resultado\n",
    "df.to_csv('Anexo_3_carpeta_1_inputs/tabla_3.0_articulos_pre_revision.csv', index=False)"
   ]
  },
  {
   "cell_type": "markdown",
   "id": "fb085a0d-614c-40af-88df-97530eac12d8",
   "metadata": {},
   "source": [
    "#### ¿cuántos abstracts hemos recuperado en automático?"
   ]
  },
  {
   "cell_type": "code",
   "execution_count": null,
   "id": "06baad08-24b9-49da-8bb2-f805a3b9a6d4",
   "metadata": {},
   "outputs": [],
   "source": [
    "col = \"has_abstract\"\n",
    "print(f\"Nº artículos CON abstract:\\n{df[col].value_counts(dropna=False)}\")"
   ]
  },
  {
   "cell_type": "markdown",
   "id": "2fa770ef-b38c-4cac-80ac-30c39875b683",
   "metadata": {},
   "source": [
    "#### 1/7\n",
    "Voy a intentar recuperarlos manualmente. Para ello, primero separo el df en 2 (con y sin abstract) y los exporto para crear un checkpoint\n",
    "\n",
    "#### Separar df en df_with_abstract y df_without_abstract\n",
    "De acuerdo a columna \"has_abstract\""
   ]
  },
  {
   "cell_type": "code",
   "execution_count": null,
   "id": "8059e407-c44a-445a-9f53-84c92cdf602d",
   "metadata": {
    "scrolled": true
   },
   "outputs": [],
   "source": [
    "# Separar artículos con y sin abstract\n",
    "df_with_abstract = df[df['has_abstract']].copy()\n",
    "df_without_abstract = df[~df['has_abstract']].copy()\n",
    "\n",
    "# Exportar lista de artículos CON abstract para revisión manual (si es necesaria) o recarga\n",
    "df_with_abstract.to_csv('Anexo_3_carpeta_1_inputs/tabla_3.1_articulos_con_abstract.csv', index=False)\n",
    "print(\"Generado 'articulos_con_abstract.csv' para revisión manual\")\n",
    "print(f\"Shape: {df_with_abstract.shape}\")\n",
    "\n",
    "# ídem pero para artículos SIN abstract\n",
    "df_without_abstract.to_csv('Anexo_3_carpeta_1_inputs/tabla_3.2_articulos_sin_abstract.csv', index=False)\n",
    "print(\"Generado 'articulos_sin_abstract.csv' para revisión manual\")\n",
    "print(f\"Shape: {df_without_abstract.shape}\")"
   ]
  },
  {
   "cell_type": "markdown",
   "id": "590ee94e-788b-462b-804b-a025c1e9bf47",
   "metadata": {},
   "source": [
    "## 2.2.Recuperación manual de abstracts\n",
    "\n",
    "Obtendré sus títulos y haré búsqueda avanzada en WOS y PubMed."
   ]
  },
  {
   "cell_type": "code",
   "execution_count": null,
   "id": "8e10e6e0-3cf7-4361-a271-cc65008b90ab",
   "metadata": {},
   "outputs": [],
   "source": [
    "# subsetear cols (para facilitar proceso)\n",
    "cols = ['Author', 'Title', 'Publication Title', 'DOI', 'Abstract Note']\n",
    "df_with_abstract = df_with_abstract[df_with_abstract.columns.intersection(cols)]\n",
    "df_without_abstract = df_without_abstract[df_without_abstract.columns.intersection(cols)]\n",
    "\n",
    "# almaceno títulos de los papers en lista\n",
    "noabs_titles = df_without_abstract['Title'].value_counts(dropna=False).index.to_list()\n",
    "\n",
    "# inicio las queries como string vacía\n",
    "pm_query = \"\"\n",
    "wos_query= \"\"\n",
    "# defino variable de longitud total que quiero\n",
    "total = len(noabs_titles)-1"
   ]
  },
  {
   "cell_type": "markdown",
   "id": "90514a61-c811-472a-85c9-92aba65958cb",
   "metadata": {},
   "source": [
    "***\n",
    "#### query de PubMed"
   ]
  },
  {
   "cell_type": "code",
   "execution_count": null,
   "id": "b68ac5d5-06ba-43df-b032-e4ea3365f36e",
   "metadata": {},
   "outputs": [],
   "source": [
    "# la construyo con un bucle\n",
    "for i,t in enumerate(noabs_titles):\n",
    "    if i == 0:                           # primer término\n",
    "        pm_query = f\"'{t}\"\n",
    "    elif i < total:                      # resto de términos (excp. último)\n",
    "        pm_query += (\"'[tiab] OR '\" + t)\n",
    "    elif i == total:                     # último término\n",
    "        pm_query += (\"'[tiab]\")\n",
    "\n",
    "# resultado\n",
    "print(f\"Total de títulos: {i+1}\")\n",
    "print(\"\\nPubMed Title query:\\n\")\n",
    "pm_query"
   ]
  },
  {
   "cell_type": "markdown",
   "id": "7799f78f-585d-49bd-aa99-aa7bcccde3a6",
   "metadata": {},
   "source": [
    "Search with this query retrieved 0 results\n",
    "\n",
    "***\n",
    "#### query de WOS"
   ]
  },
  {
   "cell_type": "code",
   "execution_count": null,
   "id": "61a33ff1-6c2a-4686-a783-9bc552dc80f3",
   "metadata": {},
   "outputs": [],
   "source": [
    "# la construyo con un bucle\n",
    "for i,t in enumerate(noabs_titles):\n",
    "    if i == 0:                           # primer término\n",
    "        pm_query = f\"TS=('{t}\"\n",
    "    elif i < total:                      # resto de términos (excp. último)\n",
    "        pm_query += (\"' OR '\" + t)\n",
    "    elif i == total:                     # último término\n",
    "        pm_query += (\"')\")\n",
    "\n",
    "# resultado\n",
    "print(f\"Total de títulos: {i+1}\")\n",
    "print(\"\\nWOS Title query:\\n\")\n",
    "pm_query"
   ]
  },
  {
   "cell_type": "markdown",
   "id": "57bed0f8-117f-4d16-bd27-530704791c02",
   "metadata": {},
   "source": [
    "#### unir resultados con df\n",
    "\n",
    "importar recuperados, hacer concat entre ellos (abs_rec) y pd.merge con df (df, abs_rec, left_join)"
   ]
  },
  {
   "cell_type": "code",
   "execution_count": null,
   "id": "bdf40112-7c86-403b-b463-2aae8f01e03d",
   "metadata": {
    "scrolled": true
   },
   "outputs": [],
   "source": [
    "# importar recuperados\n",
    "#abs_rec_pm = pd.read_csv(\"tabla_3.2.1_abs_rec_pm.csv\", sep=\";\")  # no lo ejecutamos ya que no recuperamos ninguno\n",
    "abs_rec_wos = pd.read_csv(\"Anexo_3_carpeta_1_inputs/tabla_3.2.2_abs_rec_wos.csv\", sep=\";\")\n",
    "\n",
    "# seleccionar subset de columnas\n",
    "pm_cols = [\"AUTHOR\", \"TITLE\", \"JOURNAL\", \"DOI\", \"ABSTRACT\"]\n",
    "wos_cols = ['AU', 'TI', 'SO', \"DL\", \"AB\"]\n",
    "abs_rec_wos = abs_rec_wos[abs_rec_wos.columns.intersection(wos_cols)]\n",
    "abs_rec_wos = abs_rec_wos[sorted(abs_rec_wos)]\n",
    "\n",
    "# renombrar cols\n",
    "abs_rec_wos.columns = [\"ABSTRACT\", \"AUTHOR\", \"DOI\", \"JOURNAL\", \"TITLE\"]\n",
    "# dropear duplicados\n",
    "abs_rec_wos = abs_rec_wos.drop_duplicates()\n",
    "\n",
    "# dropear nas en abstract\n",
    "abs_rec_wos = abs_rec_wos.dropna(subset=[\"ABSTRACT\"])\n",
    "\n",
    "## merge both into rec_abs\n",
    "rec_abs = abs_rec_wos.copy()\n",
    "# drop articles w/out abstract & duplicates\n",
    "rec_abs = rec_abs.drop_duplicates(subset=pm_cols[:-1])\n",
    "rec_abs = rec_abs.dropna(subset=[\"ABSTRACT\"])\n",
    "\n",
    "# capitalizar columnas del df y renombrar \"PUBLICATION TITLE\" > \"JOURNAL\" para facilitar pd.merge()\n",
    "df_with_abstract.columns = [col.upper() for col in list(df_with_abstract.columns)]\n",
    "df_with_abstract.columns = ['AUTHOR', 'TITLE', 'JOURNAL',  'DOI', 'ABSTRACT']\n",
    "\n",
    "## merge df & rec_abs\n",
    "rec_abs = pd.concat([rec_abs, df_with_abstract])\n",
    "rec_abs = rec_abs.drop_duplicates(subset=\"DOI\")  # drop articles w/out abstract & duplicates\n",
    "print(rec_abs.shape)                             # check"
   ]
  },
  {
   "cell_type": "code",
   "execution_count": null,
   "id": "bfcd331c-6ae8-4afe-883c-8442727662ea",
   "metadata": {
    "scrolled": true
   },
   "outputs": [],
   "source": [
    "# check\n",
    "len_i = len(df_with_abstract)\n",
    "print(f\"Artículos iniciales c. abstract: {len_i}\")\n",
    "len_f = len(rec_abs)\n",
    "recuperados = len_i - len_f\n",
    "print(f\"Artículos recuperados: {recuperados}\")\n",
    "print(f\"Artículos finales c. abstract: {len_f}\")"
   ]
  },
  {
   "cell_type": "markdown",
   "id": "0b19969e-0d73-418d-97de-7e108d74f556",
   "metadata": {},
   "source": [
    "Hemos recuperado 0 artículos buscando por TÍTULO, busquemos por DOI"
   ]
  },
  {
   "cell_type": "code",
   "execution_count": null,
   "id": "49a909e5-82cd-4f43-af76-1f16ef69575b",
   "metadata": {},
   "outputs": [],
   "source": [
    "# almaceno DOIS de los papers en lista\n",
    "noabs_dois = df_without_abstract['DOI'].value_counts(dropna=False).index.to_list()\n",
    "# print\n",
    "for doi in noabs_dois:\n",
    "    print(doi)"
   ]
  },
  {
   "cell_type": "markdown",
   "id": "2e3cd510-3c81-4130-875a-b3f3a3480cc6",
   "metadata": {},
   "source": [
    "- En PM no obtengo nada (papers con otro DOI que dan como resultado este, y son Comentarios)\n",
    "- En WOS sí que aparecen, pero son 5 Meeting Abstracts y 1 Letter --> los añado a excluidos"
   ]
  },
  {
   "cell_type": "code",
   "execution_count": null,
   "id": "7037f645-e5d3-47f8-9a17-4288863b3f34",
   "metadata": {},
   "outputs": [],
   "source": [
    "# importar stats\n",
    "stats = pd.read_csv('../Anexo_2_busqueda_bbdd/Anexo_2_carpeta_2_resultados/tabla_2.4_search_stats.csv', index_col=0)\n",
    "\n",
    "# construir no_papers de deduplicaciones totales como dict (para luego concatenar)\n",
    "temp_df = {\"Not papers\": [0, 0, len(noabs_dois), len_f]}\n",
    "# pasar a df (y trasponer)\n",
    "temp_df = pd.DataFrame(temp_df).T.astype(int)\n",
    "# renombrar columnas\n",
    "temp_df.columns = [\"PubMed\", \"WOS\", \"Excluidos\", \"Total\"]\n",
    "\n",
    "# concatenar a stats\n",
    "stats = pd.concat([stats, temp_df], axis=0)\n",
    "stats"
   ]
  },
  {
   "cell_type": "markdown",
   "id": "e05832df-97ba-4e4c-9ab0-74f350c3a1c8",
   "metadata": {},
   "source": [
    "## 2.2.concatenar abstracts recuperados a articulos_con_abstract"
   ]
  },
  {
   "cell_type": "code",
   "execution_count": null,
   "id": "499c435b-dfb1-402e-a923-d438350d4649",
   "metadata": {
    "scrolled": true
   },
   "outputs": [],
   "source": [
    "# como no hemos recuperado ningún abstract, podemos reasignar df y exportar\n",
    "df = df[df[\"has_abstract\"]==True]\n",
    "print(f\"Shape: {df.shape}\")\n",
    "df.head()"
   ]
  },
  {
   "cell_type": "markdown",
   "id": "21864472-5357-47db-943b-23ad60cbc894",
   "metadata": {},
   "source": [
    "# 3.revisar manualmente abstracts no recuperados"
   ]
  },
  {
   "cell_type": "code",
   "execution_count": null,
   "id": "5a87bf62-2064-4886-9d67-9765bf122118",
   "metadata": {
    "scrolled": true
   },
   "outputs": [],
   "source": [
    "# añadir columnas checkbox\n",
    "cols = [\"ADPKD?\", \"OMICS?\", \"BIOINFO?\", \"HUMAN DATA?\", \"BIOMARKER?\", \"TRASLATIONAL?\", \"DECISION\", \"COMMENT\"]\n",
    "for col in cols[:-4]:\n",
    "    df[col] = False\n",
    "# últimas 2 cols\n",
    "for col in cols[-4:]:\n",
    "    df[col] = None\n",
    "\n",
    "# check\n",
    "df.head(2)"
   ]
  },
  {
   "cell_type": "markdown",
   "id": "cffef6a9-9b89-4b6f-bacc-64d31b40cc53",
   "metadata": {},
   "source": [
    "# 4.exportar todo\n",
    "y empezar screening en siguiente script"
   ]
  },
  {
   "cell_type": "code",
   "execution_count": null,
   "id": "12b126fc-93eb-48a0-879a-751a5ff15155",
   "metadata": {},
   "outputs": [],
   "source": [
    "df.to_csv('Anexo_3_carpeta_1_inputs/tabla_3.3.1_articulos_para_screening.csv', index=False)\n",
    "print(\"Generado 'articulos_para_screening.csv' para screening\")\n",
    "print(f\"Shape: {df.shape}\")\n",
    "\n",
    "stats.to_csv('Anexo_3_carpeta_1_inputs/tabla_3.3.2.stats.csv', index=True)\n",
    "print(\"Generado 'stats.csv' para screening\")\n",
    "print(f\"Shape: {stats.shape}\")"
   ]
  }
 ],
 "metadata": {
  "kernelspec": {
   "display_name": "Python 3 (ipykernel)",
   "language": "python",
   "name": "python3"
  },
  "language_info": {
   "codemirror_mode": {
    "name": "ipython",
    "version": 3
   },
   "file_extension": ".py",
   "mimetype": "text/x-python",
   "name": "python",
   "nbconvert_exporter": "python",
   "pygments_lexer": "ipython3",
   "version": "3.10.16"
  }
 },
 "nbformat": 4,
 "nbformat_minor": 5
}
