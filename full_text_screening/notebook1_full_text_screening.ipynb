{
 "cells": [
  {
   "cell_type": "markdown",
   "metadata": {},
   "source": [
    "# Full Text Screening\n",
    "\n",
    "Este notebook implementa el proceso de screening de texto completo siguiendo las guías PRISMA-ScR.\n",
    "\n",
    "## Objetivos:\n",
    "- Obtener textos completos de artículos incluidos en TIAB screening\n",
    "- Aplicar criterios de inclusión/exclusión detallados\n",
    "- Realizar screening independiente por múltiples revisores\n",
    "- Resolver discrepancias y generar lista final\n",
    "- Documentar razones de exclusión detalladas"
   ]
  },
  {
   "cell_type": "code",
   "execution_count": null,
   "metadata": {},
   "outputs": [],
   "source": [
    "import pandas as pd\n",
    "import numpy as np\n",
    "import os\n",
    "from pathlib import Path\n",
    "from udfs import *\n",
    "\n",
    "# Configuración inicial\n",
    "pd.set_option('display.max_columns', None)\n",
    "pd.set_option('display.width', None)\n",
    "pd.set_option('display.max_colwidth', None)"
   ]
  },
  {
   "cell_type": "markdown",
   "metadata": {},
   "source": [
    "## 1. Carga de Artículos para Full Text Screening"
   ]
  },
  {
   "cell_type": "code",
   "execution_count": null,
   "metadata": {},
   "outputs": [],
   "source": [
    "# Cargar resultados de TIAB screening\n",
    "# tiab_included = pd.read_csv('../tiab_screening/resultados/tiab_included_records.csv')\n",
    "# print(f\"Artículos para full text screening: {len(tiab_included)}\")"
   ]
  },
  {
   "cell_type": "markdown",
   "metadata": {},
   "source": [
    "## 2. Obtención de Textos Completos"
   ]
  },
  {
   "cell_type": "code",
   "execution_count": null,
   "metadata": {},
   "outputs": [],
   "source": [
    "# Verificar disponibilidad de textos completos\n",
    "fulltext_path = Path('inputs')\n",
    "available_pdfs = list(fulltext_path.glob('*.pdf'))\n",
    "\n",
    "print(f\"PDFs disponibles en inputs/: {len(available_pdfs)}\")\n",
    "\n",
    "# Identificar artículos sin texto completo disponible\n",
    "# missing_fulltext = identify_missing_fulltext(tiab_included, available_pdfs)\n",
    "# print(f\"Artículos sin texto completo: {len(missing_fulltext)}\")"
   ]
  },
  {
   "cell_type": "markdown",
   "metadata": {},
   "source": [
    "## 3. Procesamiento de Textos Completos"
   ]
  },
  {
   "cell_type": "code",
   "execution_count": null,
   "metadata": {},
   "outputs": [],
   "source": [
    "# Extraer texto de PDFs disponibles\n",
    "# extracted_texts = extract_text_from_pdfs(available_pdfs)\n",
    "# print(f\"Textos extraídos exitosamente: {len(extracted_texts)}\")"
   ]
  },
  {
   "cell_type": "markdown",
   "metadata": {},
   "source": [
    "## 4. Criterios Detallados de Inclusión/Exclusión"
   ]
  },
  {
   "cell_type": "code",
   "execution_count": null,
   "metadata": {},
   "outputs": [],
   "source": [
    "# Criterios detallados para full text screening\n",
    "detailed_criteria = {\n",
    "    'inclusion': {\n",
    "        'population': 'Adult patients with ADPKD',\n",
    "        'biomarkers': 'Any biomarker for disease progression, diagnosis, or prognosis',\n",
    "        'study_design': 'Observational studies, clinical trials, cohort studies',\n",
    "        'outcomes': 'Biomarker performance, validation, or clinical utility',\n",
    "        'language': 'English, Spanish, Portuguese',\n",
    "        'time_period': 'No restrictions'\n",
    "    },\n",
    "    'exclusion': {\n",
    "        'population': 'Pediatric only, animals, in vitro only',\n",
    "        'study_type': 'Reviews, editorials, case reports (<10 patients)',\n",
    "        'biomarkers': 'No biomarker data or genetic testing only',\n",
    "        'outcomes': 'No relevant clinical outcomes',\n",
    "        'access': 'Full text not available',\n",
    "        'other': 'Duplicate publication, conference abstract only'\n",
    "    }\n",
    "}\n",
    "\n",
    "print(\"Criterios detallados definidos para full text screening\")"
   ]
  },
  {
   "cell_type": "markdown",
   "metadata": {},
   "source": [
    "## 5. Screening Automatizado de Textos Completos"
   ]
  },
  {
   "cell_type": "code",
   "execution_count": null,
   "metadata": {},
   "outputs": [],
   "source": [
    "# Aplicar screening automatizado inicial\n",
    "# auto_screening_results = automated_fulltext_screening(extracted_texts, detailed_criteria)\n",
    "# print(f\"Resultados de screening automatizado: {len(auto_screening_results)}\")"
   ]
  },
  {
   "cell_type": "markdown",
   "metadata": {},
   "source": [
    "## 6. Preparación para Screening Manual"
   ]
  },
  {
   "cell_type": "code",
   "execution_count": null,
   "metadata": {},
   "outputs": [],
   "source": [
    "# Preparar formularios de screening para revisores\n",
    "# screening_forms = prepare_fulltext_screening_forms(tiab_included, detailed_criteria)\n",
    "# print(\"Formularios de screening preparados\")"
   ]
  },
  {
   "cell_type": "markdown",
   "metadata": {},
   "source": [
    "## 7. Análisis de Resultados de Screening"
   ]
  },
  {
   "cell_type": "code",
   "execution_count": null,
   "metadata": {},
   "outputs": [],
   "source": [
    "# Cargar resultados de screening manual (placeholder)\n",
    "# reviewer1_fulltext = load_fulltext_screening('reviewer1_fulltext.csv')\n",
    "# reviewer2_fulltext = load_fulltext_screening('reviewer2_fulltext.csv')\n",
    "\n",
    "# Calcular concordancia\n",
    "# fulltext_kappa = calculate_fulltext_agreement(reviewer1_fulltext, reviewer2_fulltext)\n",
    "# print(f\"Concordancia en full text screening (Kappa): {fulltext_kappa:.3f}\")"
   ]
  },
  {
   "cell_type": "markdown",
   "metadata": {},
   "source": [
    "## 8. Resolución de Discrepancias"
   ]
  },
  {
   "cell_type": "code",
   "execution_count": null,
   "metadata": {},
   "outputs": [],
   "source": [
    "# Identificar y resolver discrepancias\n",
    "# fulltext_discrepancies = identify_fulltext_discrepancies(reviewer1_fulltext, reviewer2_fulltext)\n",
    "# print(f\"Discrepancias en full text: {len(fulltext_discrepancies)}\")\n",
    "\n",
    "# resolved_fulltext = resolve_fulltext_discrepancies(fulltext_discrepancies)\n",
    "# print(f\"Discrepancias resueltas: {len(resolved_fulltext)}\")"
   ]
  },
  {
   "cell_type": "markdown",
   "metadata": {},
   "source": [
    "## 9. Resultados Finales"
   ]
  },
  {
   "cell_type": "code",
   "execution_count": null,
   "metadata": {},
   "outputs": [],
   "source": [
    "# Combinar resultados finales\n",
    "# final_included = combine_fulltext_results(reviewer1_fulltext, reviewer2_fulltext, resolved_fulltext)\n",
    "# included_studies = final_included[final_included['decision'] == 'include']\n",
    "\n",
    "# print(f\"Estudios finalmente incluidos: {len(included_studies)}\")\n",
    "# print(f\"Estudios excluidos en full text: {len(final_included) - len(included_studies)}\")"
   ]
  },
  {
   "cell_type": "markdown",
   "metadata": {},
   "source": [
    "## 10. Análisis de Razones de Exclusión"
   ]
  },
  {
   "cell_type": "code",
   "execution_count": null,
   "metadata": {},
   "outputs": [],
   "source": [
    "# Analizar razones de exclusión\n",
    "# exclusion_analysis = analyze_exclusion_reasons(final_included)\n",
    "# print(\"Razones de exclusión en full text screening:\")\n",
    "# print(exclusion_analysis)"
   ]
  },
  {
   "cell_type": "markdown",
   "metadata": {},
   "source": [
    "## 11. Guardado de Resultados Finales"
   ]
  },
  {
   "cell_type": "code",
   "execution_count": null,
   "metadata": {},
   "outputs": [],
   "source": [
    "# Guardar estudios finalmente incluidos\n",
    "# included_studies.to_csv('resultados/final_included_studies.csv', index=False)\n",
    "# final_included.to_csv('resultados/fulltext_all_decisions.csv', index=False)\n",
    "\n",
    "# print(\"Resultados guardados:\")\n",
    "# print(\"  - resultados/final_included_studies.csv\")\n",
    "# print(\"  - resultados/fulltext_all_decisions.csv\")"
   ]
  },
  {
   "cell_type": "markdown",
   "metadata": {},
   "source": [
    "## 12. Reporte Final de Screening"
   ]
  },
  {
   "cell_type": "code",
   "execution_count": null,
   "metadata": {},
   "outputs": [],
   "source": [
    "# Generar reporte final completo del proceso de screening\n",
    "# final_screening_report = generate_final_screening_report(\n",
    "#     tiab_included, final_included, fulltext_kappa, exclusion_analysis\n",
    "# )\n",
    "# print(final_screening_report)"
   ]
  }
 ],
 "metadata": {
  "kernelspec": {
   "display_name": "Python 3",
   "language": "python",
   "name": "python3"
  },
  "language_info": {
   "codemirror_mode": {
    "name": "ipython",
    "version": 3
   },
   "file_extension": ".py",
   "mimetype": "text/x-python",
   "name": "python",
   "nbconvert_exporter": "python",
   "pygments_lexer": "ipython3",
   "version": "3.8.5"
  }
 },
 "nbformat": 4,
 "nbformat_minor": 4
}